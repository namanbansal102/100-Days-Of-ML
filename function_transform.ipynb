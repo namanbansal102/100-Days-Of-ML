{
 "cells": [
  {
   "cell_type": "code",
   "execution_count": 35,
   "metadata": {},
   "outputs": [],
   "source": [
    "import pandas as pd\n",
    "import seaborn as sns\n",
    "import matplotlib.pyplot as plt\n",
    "import numpy as np"
   ]
  },
  {
   "cell_type": "code",
   "execution_count": 36,
   "metadata": {},
   "outputs": [],
   "source": [
    "df=pd.read_csv('titanic.csv',usecols=['Survived','Age','Fare'])"
   ]
  },
  {
   "cell_type": "code",
   "execution_count": 37,
   "metadata": {},
   "outputs": [
    {
     "data": {
      "text/html": [
       "<div>\n",
       "<style scoped>\n",
       "    .dataframe tbody tr th:only-of-type {\n",
       "        vertical-align: middle;\n",
       "    }\n",
       "\n",
       "    .dataframe tbody tr th {\n",
       "        vertical-align: top;\n",
       "    }\n",
       "\n",
       "    .dataframe thead th {\n",
       "        text-align: right;\n",
       "    }\n",
       "</style>\n",
       "<table border=\"1\" class=\"dataframe\">\n",
       "  <thead>\n",
       "    <tr style=\"text-align: right;\">\n",
       "      <th></th>\n",
       "      <th>Survived</th>\n",
       "      <th>Age</th>\n",
       "      <th>Fare</th>\n",
       "    </tr>\n",
       "  </thead>\n",
       "  <tbody>\n",
       "    <tr>\n",
       "      <th>0</th>\n",
       "      <td>0</td>\n",
       "      <td>22.0</td>\n",
       "      <td>7.2500</td>\n",
       "    </tr>\n",
       "    <tr>\n",
       "      <th>1</th>\n",
       "      <td>1</td>\n",
       "      <td>38.0</td>\n",
       "      <td>71.2833</td>\n",
       "    </tr>\n",
       "    <tr>\n",
       "      <th>2</th>\n",
       "      <td>1</td>\n",
       "      <td>26.0</td>\n",
       "      <td>7.9250</td>\n",
       "    </tr>\n",
       "    <tr>\n",
       "      <th>3</th>\n",
       "      <td>1</td>\n",
       "      <td>35.0</td>\n",
       "      <td>53.1000</td>\n",
       "    </tr>\n",
       "    <tr>\n",
       "      <th>4</th>\n",
       "      <td>0</td>\n",
       "      <td>35.0</td>\n",
       "      <td>8.0500</td>\n",
       "    </tr>\n",
       "  </tbody>\n",
       "</table>\n",
       "</div>"
      ],
      "text/plain": [
       "   Survived   Age     Fare\n",
       "0         0  22.0   7.2500\n",
       "1         1  38.0  71.2833\n",
       "2         1  26.0   7.9250\n",
       "3         1  35.0  53.1000\n",
       "4         0  35.0   8.0500"
      ]
     },
     "execution_count": 37,
     "metadata": {},
     "output_type": "execute_result"
    }
   ],
   "source": [
    "df.head(5)"
   ]
  },
  {
   "cell_type": "code",
   "execution_count": 38,
   "metadata": {},
   "outputs": [
    {
     "data": {
      "text/plain": [
       "Survived      0\n",
       "Age         177\n",
       "Fare          0\n",
       "dtype: int64"
      ]
     },
     "execution_count": 38,
     "metadata": {},
     "output_type": "execute_result"
    }
   ],
   "source": [
    "df.isnull().sum()"
   ]
  },
  {
   "cell_type": "code",
   "execution_count": 39,
   "metadata": {},
   "outputs": [],
   "source": [
    "from sklearn.impute import SimpleImputer"
   ]
  },
  {
   "cell_type": "code",
   "execution_count": 40,
   "metadata": {},
   "outputs": [],
   "source": [
    "imputer=SimpleImputer(strategy='mean')\n",
    "age_column_2d = df['Age'].values.reshape(-1, 1)\n",
    "df['Age']=imputer.fit_transform(age_column_2d)"
   ]
  },
  {
   "cell_type": "code",
   "execution_count": 41,
   "metadata": {},
   "outputs": [
    {
     "data": {
      "text/html": [
       "<div>\n",
       "<style scoped>\n",
       "    .dataframe tbody tr th:only-of-type {\n",
       "        vertical-align: middle;\n",
       "    }\n",
       "\n",
       "    .dataframe tbody tr th {\n",
       "        vertical-align: top;\n",
       "    }\n",
       "\n",
       "    .dataframe thead th {\n",
       "        text-align: right;\n",
       "    }\n",
       "</style>\n",
       "<table border=\"1\" class=\"dataframe\">\n",
       "  <thead>\n",
       "    <tr style=\"text-align: right;\">\n",
       "      <th></th>\n",
       "      <th>Survived</th>\n",
       "      <th>Age</th>\n",
       "      <th>Fare</th>\n",
       "    </tr>\n",
       "  </thead>\n",
       "  <tbody>\n",
       "    <tr>\n",
       "      <th>0</th>\n",
       "      <td>0</td>\n",
       "      <td>22.0</td>\n",
       "      <td>7.2500</td>\n",
       "    </tr>\n",
       "    <tr>\n",
       "      <th>1</th>\n",
       "      <td>1</td>\n",
       "      <td>38.0</td>\n",
       "      <td>71.2833</td>\n",
       "    </tr>\n",
       "    <tr>\n",
       "      <th>2</th>\n",
       "      <td>1</td>\n",
       "      <td>26.0</td>\n",
       "      <td>7.9250</td>\n",
       "    </tr>\n",
       "    <tr>\n",
       "      <th>3</th>\n",
       "      <td>1</td>\n",
       "      <td>35.0</td>\n",
       "      <td>53.1000</td>\n",
       "    </tr>\n",
       "    <tr>\n",
       "      <th>4</th>\n",
       "      <td>0</td>\n",
       "      <td>35.0</td>\n",
       "      <td>8.0500</td>\n",
       "    </tr>\n",
       "  </tbody>\n",
       "</table>\n",
       "</div>"
      ],
      "text/plain": [
       "   Survived   Age     Fare\n",
       "0         0  22.0   7.2500\n",
       "1         1  38.0  71.2833\n",
       "2         1  26.0   7.9250\n",
       "3         1  35.0  53.1000\n",
       "4         0  35.0   8.0500"
      ]
     },
     "execution_count": 41,
     "metadata": {},
     "output_type": "execute_result"
    }
   ],
   "source": [
    "df.head()"
   ]
  },
  {
   "cell_type": "code",
   "execution_count": 42,
   "metadata": {},
   "outputs": [
    {
     "data": {
      "text/plain": [
       "Survived    0\n",
       "Age         0\n",
       "Fare        0\n",
       "dtype: int64"
      ]
     },
     "execution_count": 42,
     "metadata": {},
     "output_type": "execute_result"
    }
   ],
   "source": [
    "df.isnull().sum()"
   ]
  },
  {
   "cell_type": "code",
   "execution_count": 43,
   "metadata": {},
   "outputs": [
    {
     "name": "stdout",
     "output_type": "stream",
     "text": [
      "<class 'pandas.core.frame.DataFrame'>\n",
      "RangeIndex: 891 entries, 0 to 890\n",
      "Data columns (total 3 columns):\n",
      " #   Column    Non-Null Count  Dtype  \n",
      "---  ------    --------------  -----  \n",
      " 0   Survived  891 non-null    int64  \n",
      " 1   Age       891 non-null    float64\n",
      " 2   Fare      891 non-null    float64\n",
      "dtypes: float64(2), int64(1)\n",
      "memory usage: 21.0 KB\n"
     ]
    }
   ],
   "source": [
    "df.info()"
   ]
  },
  {
   "cell_type": "code",
   "execution_count": 44,
   "metadata": {},
   "outputs": [],
   "source": [
    "df['Age']=df['Age'].astype(int)"
   ]
  },
  {
   "cell_type": "code",
   "execution_count": 45,
   "metadata": {},
   "outputs": [
    {
     "data": {
      "text/html": [
       "<div>\n",
       "<style scoped>\n",
       "    .dataframe tbody tr th:only-of-type {\n",
       "        vertical-align: middle;\n",
       "    }\n",
       "\n",
       "    .dataframe tbody tr th {\n",
       "        vertical-align: top;\n",
       "    }\n",
       "\n",
       "    .dataframe thead th {\n",
       "        text-align: right;\n",
       "    }\n",
       "</style>\n",
       "<table border=\"1\" class=\"dataframe\">\n",
       "  <thead>\n",
       "    <tr style=\"text-align: right;\">\n",
       "      <th></th>\n",
       "      <th>Survived</th>\n",
       "      <th>Age</th>\n",
       "      <th>Fare</th>\n",
       "    </tr>\n",
       "  </thead>\n",
       "  <tbody>\n",
       "    <tr>\n",
       "      <th>0</th>\n",
       "      <td>0</td>\n",
       "      <td>22</td>\n",
       "      <td>7.2500</td>\n",
       "    </tr>\n",
       "    <tr>\n",
       "      <th>1</th>\n",
       "      <td>1</td>\n",
       "      <td>38</td>\n",
       "      <td>71.2833</td>\n",
       "    </tr>\n",
       "    <tr>\n",
       "      <th>2</th>\n",
       "      <td>1</td>\n",
       "      <td>26</td>\n",
       "      <td>7.9250</td>\n",
       "    </tr>\n",
       "    <tr>\n",
       "      <th>3</th>\n",
       "      <td>1</td>\n",
       "      <td>35</td>\n",
       "      <td>53.1000</td>\n",
       "    </tr>\n",
       "    <tr>\n",
       "      <th>4</th>\n",
       "      <td>0</td>\n",
       "      <td>35</td>\n",
       "      <td>8.0500</td>\n",
       "    </tr>\n",
       "  </tbody>\n",
       "</table>\n",
       "</div>"
      ],
      "text/plain": [
       "   Survived  Age     Fare\n",
       "0         0   22   7.2500\n",
       "1         1   38  71.2833\n",
       "2         1   26   7.9250\n",
       "3         1   35  53.1000\n",
       "4         0   35   8.0500"
      ]
     },
     "execution_count": 45,
     "metadata": {},
     "output_type": "execute_result"
    }
   ],
   "source": [
    "df.head()"
   ]
  },
  {
   "cell_type": "code",
   "execution_count": 46,
   "metadata": {},
   "outputs": [],
   "source": [
    "x=df.iloc[:,1:]\n",
    "y=df.iloc[:,0:1]"
   ]
  },
  {
   "cell_type": "code",
   "execution_count": 47,
   "metadata": {},
   "outputs": [
    {
     "data": {
      "text/html": [
       "<div>\n",
       "<style scoped>\n",
       "    .dataframe tbody tr th:only-of-type {\n",
       "        vertical-align: middle;\n",
       "    }\n",
       "\n",
       "    .dataframe tbody tr th {\n",
       "        vertical-align: top;\n",
       "    }\n",
       "\n",
       "    .dataframe thead th {\n",
       "        text-align: right;\n",
       "    }\n",
       "</style>\n",
       "<table border=\"1\" class=\"dataframe\">\n",
       "  <thead>\n",
       "    <tr style=\"text-align: right;\">\n",
       "      <th></th>\n",
       "      <th>Age</th>\n",
       "      <th>Fare</th>\n",
       "    </tr>\n",
       "  </thead>\n",
       "  <tbody>\n",
       "    <tr>\n",
       "      <th>0</th>\n",
       "      <td>22</td>\n",
       "      <td>7.2500</td>\n",
       "    </tr>\n",
       "    <tr>\n",
       "      <th>1</th>\n",
       "      <td>38</td>\n",
       "      <td>71.2833</td>\n",
       "    </tr>\n",
       "    <tr>\n",
       "      <th>2</th>\n",
       "      <td>26</td>\n",
       "      <td>7.9250</td>\n",
       "    </tr>\n",
       "    <tr>\n",
       "      <th>3</th>\n",
       "      <td>35</td>\n",
       "      <td>53.1000</td>\n",
       "    </tr>\n",
       "    <tr>\n",
       "      <th>4</th>\n",
       "      <td>35</td>\n",
       "      <td>8.0500</td>\n",
       "    </tr>\n",
       "  </tbody>\n",
       "</table>\n",
       "</div>"
      ],
      "text/plain": [
       "   Age     Fare\n",
       "0   22   7.2500\n",
       "1   38  71.2833\n",
       "2   26   7.9250\n",
       "3   35  53.1000\n",
       "4   35   8.0500"
      ]
     },
     "execution_count": 47,
     "metadata": {},
     "output_type": "execute_result"
    }
   ],
   "source": [
    "x.head()"
   ]
  },
  {
   "cell_type": "code",
   "execution_count": 48,
   "metadata": {},
   "outputs": [
    {
     "data": {
      "text/html": [
       "<div>\n",
       "<style scoped>\n",
       "    .dataframe tbody tr th:only-of-type {\n",
       "        vertical-align: middle;\n",
       "    }\n",
       "\n",
       "    .dataframe tbody tr th {\n",
       "        vertical-align: top;\n",
       "    }\n",
       "\n",
       "    .dataframe thead th {\n",
       "        text-align: right;\n",
       "    }\n",
       "</style>\n",
       "<table border=\"1\" class=\"dataframe\">\n",
       "  <thead>\n",
       "    <tr style=\"text-align: right;\">\n",
       "      <th></th>\n",
       "      <th>Survived</th>\n",
       "    </tr>\n",
       "  </thead>\n",
       "  <tbody>\n",
       "    <tr>\n",
       "      <th>0</th>\n",
       "      <td>0</td>\n",
       "    </tr>\n",
       "    <tr>\n",
       "      <th>1</th>\n",
       "      <td>1</td>\n",
       "    </tr>\n",
       "    <tr>\n",
       "      <th>2</th>\n",
       "      <td>1</td>\n",
       "    </tr>\n",
       "    <tr>\n",
       "      <th>3</th>\n",
       "      <td>1</td>\n",
       "    </tr>\n",
       "    <tr>\n",
       "      <th>4</th>\n",
       "      <td>0</td>\n",
       "    </tr>\n",
       "  </tbody>\n",
       "</table>\n",
       "</div>"
      ],
      "text/plain": [
       "   Survived\n",
       "0         0\n",
       "1         1\n",
       "2         1\n",
       "3         1\n",
       "4         0"
      ]
     },
     "execution_count": 48,
     "metadata": {},
     "output_type": "execute_result"
    }
   ],
   "source": [
    "y.head()"
   ]
  },
  {
   "cell_type": "code",
   "execution_count": 49,
   "metadata": {},
   "outputs": [],
   "source": [
    "from sklearn.model_selection import train_test_split\n",
    "x_train,x_test,y_train,y_test=train_test_split(x,y,test_size=0.3,random_state=42)"
   ]
  },
  {
   "cell_type": "code",
   "execution_count": 50,
   "metadata": {},
   "outputs": [
    {
     "data": {
      "text/html": [
       "<div>\n",
       "<style scoped>\n",
       "    .dataframe tbody tr th:only-of-type {\n",
       "        vertical-align: middle;\n",
       "    }\n",
       "\n",
       "    .dataframe tbody tr th {\n",
       "        vertical-align: top;\n",
       "    }\n",
       "\n",
       "    .dataframe thead th {\n",
       "        text-align: right;\n",
       "    }\n",
       "</style>\n",
       "<table border=\"1\" class=\"dataframe\">\n",
       "  <thead>\n",
       "    <tr style=\"text-align: right;\">\n",
       "      <th></th>\n",
       "      <th>Age</th>\n",
       "      <th>Fare</th>\n",
       "    </tr>\n",
       "  </thead>\n",
       "  <tbody>\n",
       "    <tr>\n",
       "      <th>445</th>\n",
       "      <td>4</td>\n",
       "      <td>81.8583</td>\n",
       "    </tr>\n",
       "    <tr>\n",
       "      <th>650</th>\n",
       "      <td>29</td>\n",
       "      <td>7.8958</td>\n",
       "    </tr>\n",
       "    <tr>\n",
       "      <th>172</th>\n",
       "      <td>1</td>\n",
       "      <td>11.1333</td>\n",
       "    </tr>\n",
       "    <tr>\n",
       "      <th>450</th>\n",
       "      <td>36</td>\n",
       "      <td>27.7500</td>\n",
       "    </tr>\n",
       "    <tr>\n",
       "      <th>314</th>\n",
       "      <td>43</td>\n",
       "      <td>26.2500</td>\n",
       "    </tr>\n",
       "  </tbody>\n",
       "</table>\n",
       "</div>"
      ],
      "text/plain": [
       "     Age     Fare\n",
       "445    4  81.8583\n",
       "650   29   7.8958\n",
       "172    1  11.1333\n",
       "450   36  27.7500\n",
       "314   43  26.2500"
      ]
     },
     "execution_count": 50,
     "metadata": {},
     "output_type": "execute_result"
    }
   ],
   "source": [
    "x_train.head()"
   ]
  },
  {
   "cell_type": "code",
   "execution_count": null,
   "metadata": {},
   "outputs": [],
   "source": []
  },
  {
   "cell_type": "code",
   "execution_count": 51,
   "metadata": {},
   "outputs": [
    {
     "data": {
      "text/plain": [
       "((array([-3.05857094, -2.78226337, -2.62730108, -2.51762488, -2.43181687,\n",
       "         -2.36087868, -2.30014358, -2.24686775, -2.19929612, -2.15623568,\n",
       "         -2.11683728, -2.08047427, -2.04667051, -2.01505545, -1.98533482,\n",
       "         -1.95727091, -1.93066884, -1.90536677, -1.88122877, -1.85813956,\n",
       "         -1.83600044, -1.81472628, -1.79424309, -1.77448615, -1.75539853,\n",
       "         -1.73692983, -1.71903527, -1.70167482, -1.68481258, -1.66841622,\n",
       "         -1.65245651, -1.63690694, -1.62174337, -1.60694377, -1.59248801,\n",
       "         -1.57835756, -1.56453542, -1.55100588, -1.53775444, -1.52476765,\n",
       "         -1.51203305, -1.49953904, -1.48727482, -1.47523031, -1.46339609,\n",
       "         -1.45176334, -1.44032379, -1.42906968, -1.41799371, -1.40708902,\n",
       "         -1.39634913, -1.38576793, -1.37533964, -1.36505881, -1.35492028,\n",
       "         -1.34491913, -1.33505073, -1.32531065, -1.31569471, -1.30619891,\n",
       "         -1.29681945, -1.28755271, -1.27839523, -1.26934373, -1.26039504,\n",
       "         -1.25154616, -1.24279421, -1.23413643, -1.22557019, -1.21709294,\n",
       "         -1.20870227, -1.20039584, -1.19217142, -1.18402686, -1.1759601 ,\n",
       "         -1.16796914, -1.16005207, -1.15220705, -1.14443231, -1.13672614,\n",
       "         -1.12908689, -1.12151297, -1.11400284, -1.10655503, -1.09916809,\n",
       "         -1.09184065, -1.08457137, -1.07735896, -1.07020215, -1.06309975,\n",
       "         -1.05605057, -1.04905348, -1.04210738, -1.03521119, -1.0283639 ,\n",
       "         -1.02156448, -1.01481196, -1.0081054 , -1.00144388, -0.99482651,\n",
       "         -0.98825241, -0.98172076, -0.97523071, -0.96878149, -0.96237231,\n",
       "         -0.95600242, -0.94967109, -0.9433776 , -0.93712126, -0.93090138,\n",
       "         -0.9247173 , -0.9185684 , -0.91245402, -0.90637357, -0.90032645,\n",
       "         -0.89431207, -0.88832987, -0.8823793 , -0.8764598 , -0.87057086,\n",
       "         -0.86471195, -0.85888258, -0.85308225, -0.84731048, -0.8415668 ,\n",
       "         -0.83585075, -0.83016188, -0.82449975, -0.81886393, -0.813254  ,\n",
       "         -0.80766955, -0.80211017, -0.79657548, -0.79106508, -0.78557859,\n",
       "         -0.78011565, -0.7746759 , -0.76925897, -0.76386452, -0.75849221,\n",
       "         -0.7531417 , -0.74781266, -0.74250478, -0.73721774, -0.73195122,\n",
       "         -0.72670492, -0.72147856, -0.71627182, -0.71108443, -0.70591611,\n",
       "         -0.70076657, -0.69563555, -0.69052278, -0.685428  , -0.68035094,\n",
       "         -0.67529137, -0.67024902, -0.66522365, -0.66021503, -0.65522292,\n",
       "         -0.65024708, -0.64528729, -0.64034333, -0.63541496, -0.63050198,\n",
       "         -0.62560418, -0.62072133, -0.61585324, -0.6109997 , -0.60616051,\n",
       "         -0.60133548, -0.5965244 , -0.59172709, -0.58694336, -0.58217303,\n",
       "         -0.57741591, -0.57267182, -0.56794058, -0.56322202, -0.55851597,\n",
       "         -0.55382225, -0.54914071, -0.54447117, -0.53981347, -0.53516745,\n",
       "         -0.53053296, -0.52590983, -0.52129792, -0.51669707, -0.51210713,\n",
       "         -0.50752795, -0.50295939, -0.49840131, -0.49385356, -0.48931599,\n",
       "         -0.48478848, -0.48027089, -0.47576307, -0.47126491, -0.46677625,\n",
       "         -0.46229699, -0.45782698, -0.4533661 , -0.44891422, -0.44447122,\n",
       "         -0.44003698, -0.43561137, -0.43119428, -0.42678559, -0.42238517,\n",
       "         -0.41799292, -0.41360872, -0.40923246, -0.40486402, -0.40050329,\n",
       "         -0.39615016, -0.39180453, -0.38746628, -0.38313531, -0.37881152,\n",
       "         -0.3744948 , -0.37018505, -0.36588216, -0.36158603, -0.35729657,\n",
       "         -0.35301368, -0.34873724, -0.34446718, -0.34020339, -0.33594577,\n",
       "         -0.33169423, -0.32744869, -0.32320903, -0.31897518, -0.31474704,\n",
       "         -0.31052451, -0.30630752, -0.30209597, -0.29788977, -0.29368883,\n",
       "         -0.28949307, -0.28530239, -0.28111673, -0.27693598, -0.27276007,\n",
       "         -0.2685889 , -0.26442241, -0.2602605 , -0.2561031 , -0.25195011,\n",
       "         -0.24780147, -0.24365709, -0.23951689, -0.23538079, -0.23124871,\n",
       "         -0.22712058, -0.22299631, -0.21887584, -0.21475907, -0.21064595,\n",
       "         -0.20653638, -0.2024303 , -0.19832763, -0.1942283 , -0.19013222,\n",
       "         -0.18603934, -0.18194956, -0.17786283, -0.17377907, -0.1696982 ,\n",
       "         -0.16562016, -0.16154487, -0.15747226, -0.15340226, -0.1493348 ,\n",
       "         -0.14526981, -0.14120722, -0.13714696, -0.13308896, -0.12903315,\n",
       "         -0.12497946, -0.12092782, -0.11687817, -0.11283043, -0.10878454,\n",
       "         -0.10474043, -0.10069804, -0.09665728, -0.09261811, -0.08858044,\n",
       "         -0.08454422, -0.08050938, -0.07647585, -0.07244356, -0.06841244,\n",
       "         -0.06438244, -0.06035349, -0.05632551, -0.05229845, -0.04827223,\n",
       "         -0.0442468 , -0.04022209, -0.03619802, -0.03217455, -0.02815159,\n",
       "         -0.02412909, -0.02010698, -0.01608519, -0.01206367, -0.00804234,\n",
       "         -0.00402114,  0.        ,  0.00402114,  0.00804234,  0.01206367,\n",
       "          0.01608519,  0.02010698,  0.02412909,  0.02815159,  0.03217455,\n",
       "          0.03619802,  0.04022209,  0.0442468 ,  0.04827223,  0.05229845,\n",
       "          0.05632551,  0.06035349,  0.06438244,  0.06841244,  0.07244356,\n",
       "          0.07647585,  0.08050938,  0.08454422,  0.08858044,  0.09261811,\n",
       "          0.09665728,  0.10069804,  0.10474043,  0.10878454,  0.11283043,\n",
       "          0.11687817,  0.12092782,  0.12497946,  0.12903315,  0.13308896,\n",
       "          0.13714696,  0.14120722,  0.14526981,  0.1493348 ,  0.15340226,\n",
       "          0.15747226,  0.16154487,  0.16562016,  0.1696982 ,  0.17377907,\n",
       "          0.17786283,  0.18194956,  0.18603934,  0.19013222,  0.1942283 ,\n",
       "          0.19832763,  0.2024303 ,  0.20653638,  0.21064595,  0.21475907,\n",
       "          0.21887584,  0.22299631,  0.22712058,  0.23124871,  0.23538079,\n",
       "          0.23951689,  0.24365709,  0.24780147,  0.25195011,  0.2561031 ,\n",
       "          0.2602605 ,  0.26442241,  0.2685889 ,  0.27276007,  0.27693598,\n",
       "          0.28111673,  0.28530239,  0.28949307,  0.29368883,  0.29788977,\n",
       "          0.30209597,  0.30630752,  0.31052451,  0.31474704,  0.31897518,\n",
       "          0.32320903,  0.32744869,  0.33169423,  0.33594577,  0.34020339,\n",
       "          0.34446718,  0.34873724,  0.35301368,  0.35729657,  0.36158603,\n",
       "          0.36588216,  0.37018505,  0.3744948 ,  0.37881152,  0.38313531,\n",
       "          0.38746628,  0.39180453,  0.39615016,  0.40050329,  0.40486402,\n",
       "          0.40923246,  0.41360872,  0.41799292,  0.42238517,  0.42678559,\n",
       "          0.43119428,  0.43561137,  0.44003698,  0.44447122,  0.44891422,\n",
       "          0.4533661 ,  0.45782698,  0.46229699,  0.46677625,  0.47126491,\n",
       "          0.47576307,  0.48027089,  0.48478848,  0.48931599,  0.49385356,\n",
       "          0.49840131,  0.50295939,  0.50752795,  0.51210713,  0.51669707,\n",
       "          0.52129792,  0.52590983,  0.53053296,  0.53516745,  0.53981347,\n",
       "          0.54447117,  0.54914071,  0.55382225,  0.55851597,  0.56322202,\n",
       "          0.56794058,  0.57267182,  0.57741591,  0.58217303,  0.58694336,\n",
       "          0.59172709,  0.5965244 ,  0.60133548,  0.60616051,  0.6109997 ,\n",
       "          0.61585324,  0.62072133,  0.62560418,  0.63050198,  0.63541496,\n",
       "          0.64034333,  0.64528729,  0.65024708,  0.65522292,  0.66021503,\n",
       "          0.66522365,  0.67024902,  0.67529137,  0.68035094,  0.685428  ,\n",
       "          0.69052278,  0.69563555,  0.70076657,  0.70591611,  0.71108443,\n",
       "          0.71627182,  0.72147856,  0.72670492,  0.73195122,  0.73721774,\n",
       "          0.74250478,  0.74781266,  0.7531417 ,  0.75849221,  0.76386452,\n",
       "          0.76925897,  0.7746759 ,  0.78011565,  0.78557859,  0.79106508,\n",
       "          0.79657548,  0.80211017,  0.80766955,  0.813254  ,  0.81886393,\n",
       "          0.82449975,  0.83016188,  0.83585075,  0.8415668 ,  0.84731048,\n",
       "          0.85308225,  0.85888258,  0.86471195,  0.87057086,  0.8764598 ,\n",
       "          0.8823793 ,  0.88832987,  0.89431207,  0.90032645,  0.90637357,\n",
       "          0.91245402,  0.9185684 ,  0.9247173 ,  0.93090138,  0.93712126,\n",
       "          0.9433776 ,  0.94967109,  0.95600242,  0.96237231,  0.96878149,\n",
       "          0.97523071,  0.98172076,  0.98825241,  0.99482651,  1.00144388,\n",
       "          1.0081054 ,  1.01481196,  1.02156448,  1.0283639 ,  1.03521119,\n",
       "          1.04210738,  1.04905348,  1.05605057,  1.06309975,  1.07020215,\n",
       "          1.07735896,  1.08457137,  1.09184065,  1.09916809,  1.10655503,\n",
       "          1.11400284,  1.12151297,  1.12908689,  1.13672614,  1.14443231,\n",
       "          1.15220705,  1.16005207,  1.16796914,  1.1759601 ,  1.18402686,\n",
       "          1.19217142,  1.20039584,  1.20870227,  1.21709294,  1.22557019,\n",
       "          1.23413643,  1.24279421,  1.25154616,  1.26039504,  1.26934373,\n",
       "          1.27839523,  1.28755271,  1.29681945,  1.30619891,  1.31569471,\n",
       "          1.32531065,  1.33505073,  1.34491913,  1.35492028,  1.36505881,\n",
       "          1.37533964,  1.38576793,  1.39634913,  1.40708902,  1.41799371,\n",
       "          1.42906968,  1.44032379,  1.45176334,  1.46339609,  1.47523031,\n",
       "          1.48727482,  1.49953904,  1.51203305,  1.52476765,  1.53775444,\n",
       "          1.55100588,  1.56453542,  1.57835756,  1.59248801,  1.60694377,\n",
       "          1.62174337,  1.63690694,  1.65245651,  1.66841622,  1.68481258,\n",
       "          1.70167482,  1.71903527,  1.73692983,  1.75539853,  1.77448615,\n",
       "          1.79424309,  1.81472628,  1.83600044,  1.85813956,  1.88122877,\n",
       "          1.90536677,  1.93066884,  1.95727091,  1.98533482,  2.01505545,\n",
       "          2.04667051,  2.08047427,  2.11683728,  2.15623568,  2.19929612,\n",
       "          2.24686775,  2.30014358,  2.36087868,  2.43181687,  2.51762488,\n",
       "          2.62730108,  2.78226337,  3.05857094]),\n",
       "  array([ 0,  0,  0,  0,  0,  1,  1,  1,  1,  1,  1,  1,  2,  2,  2,  2,  2,\n",
       "          2,  2,  2,  2,  3,  3,  3,  3,  3,  3,  4,  4,  4,  4,  4,  4,  4,\n",
       "          4,  5,  5,  6,  7,  7,  8,  8,  8,  8,  9,  9,  9,  9,  9, 10, 11,\n",
       "         11, 12, 13, 14, 14, 14, 14, 14, 14, 15, 15, 15, 15, 16, 16, 16, 16,\n",
       "         16, 16, 16, 16, 16, 16, 16, 16, 17, 17, 17, 17, 17, 17, 17, 18, 18,\n",
       "         18, 18, 18, 18, 18, 18, 18, 18, 18, 18, 18, 18, 18, 18, 18, 18, 19,\n",
       "         19, 19, 19, 19, 19, 19, 19, 19, 19, 19, 19, 19, 19, 19, 19, 19, 19,\n",
       "         20, 20, 20, 20, 20, 20, 20, 20, 20, 20, 21, 21, 21, 21, 21, 21, 21,\n",
       "         21, 21, 21, 21, 21, 21, 21, 21, 21, 21, 21, 22, 22, 22, 22, 22, 22,\n",
       "         22, 22, 22, 22, 22, 22, 22, 22, 22, 22, 22, 23, 23, 23, 23, 23, 23,\n",
       "         23, 23, 24, 24, 24, 24, 24, 24, 24, 24, 24, 24, 24, 24, 24, 24, 24,\n",
       "         24, 24, 24, 24, 24, 24, 24, 24, 25, 25, 25, 25, 25, 25, 25, 25, 25,\n",
       "         25, 25, 25, 25, 25, 25, 25, 25, 25, 26, 26, 26, 26, 26, 26, 26, 26,\n",
       "         26, 26, 26, 26, 26, 27, 27, 27, 27, 27, 27, 27, 27, 27, 27, 27, 27,\n",
       "         28, 28, 28, 28, 28, 28, 28, 28, 28, 28, 28, 28, 28, 28, 28, 28, 28,\n",
       "         28, 28, 28, 28, 29, 29, 29, 29, 29, 29, 29, 29, 29, 29, 29, 29, 29,\n",
       "         29, 29, 29, 29, 29, 29, 29, 29, 29, 29, 29, 29, 29, 29, 29, 29, 29,\n",
       "         29, 29, 29, 29, 29, 29, 29, 29, 29, 29, 29, 29, 29, 29, 29, 29, 29,\n",
       "         29, 29, 29, 29, 29, 29, 29, 29, 29, 29, 29, 29, 29, 29, 29, 29, 29,\n",
       "         29, 29, 29, 29, 29, 29, 29, 29, 29, 29, 29, 29, 29, 29, 29, 29, 29,\n",
       "         29, 29, 29, 29, 29, 29, 29, 29, 29, 29, 29, 29, 29, 29, 29, 29, 29,\n",
       "         29, 29, 29, 29, 29, 29, 29, 29, 29, 29, 29, 29, 29, 29, 29, 29, 29,\n",
       "         29, 29, 29, 29, 29, 29, 29, 29, 29, 29, 29, 29, 29, 29, 29, 29, 29,\n",
       "         29, 29, 29, 29, 30, 30, 30, 30, 30, 30, 30, 30, 30, 30, 30, 30, 30,\n",
       "         30, 30, 30, 30, 31, 31, 31, 31, 31, 31, 31, 31, 31, 31, 31, 31, 31,\n",
       "         32, 32, 32, 32, 32, 32, 32, 32, 32, 32, 32, 32, 32, 32, 32, 32, 33,\n",
       "         33, 33, 33, 33, 33, 33, 33, 33, 33, 33, 33, 33, 34, 34, 34, 34, 34,\n",
       "         34, 34, 34, 34, 34, 34, 35, 35, 35, 35, 35, 35, 35, 35, 35, 35, 35,\n",
       "         35, 35, 36, 36, 36, 36, 36, 36, 36, 36, 36, 36, 36, 36, 37, 37, 37,\n",
       "         37, 38, 38, 38, 38, 38, 38, 39, 39, 39, 39, 39, 39, 39, 39, 39, 39,\n",
       "         39, 40, 40, 40, 40, 40, 40, 40, 40, 40, 41, 41, 41, 41, 41, 42, 42,\n",
       "         42, 42, 42, 42, 42, 42, 43, 43, 43, 43, 44, 44, 44, 44, 44, 44, 44,\n",
       "         45, 45, 45, 45, 45, 45, 45, 45, 45, 45, 46, 46, 46, 47, 47, 47, 47,\n",
       "         47, 47, 47, 48, 48, 48, 48, 48, 48, 48, 49, 49, 49, 49, 50, 50, 50,\n",
       "         50, 50, 51, 51, 51, 51, 51, 52, 52, 52, 53, 54, 54, 54, 54, 54, 54,\n",
       "         54, 54, 55, 55, 55, 56, 56, 56, 58, 58, 58, 58, 59, 59, 60, 60, 60,\n",
       "         60, 61, 62, 62, 62, 64, 70, 70, 70, 74, 80])),\n",
       " (12.807025702449929, 29.191011235955056, 0.979255821332363))"
      ]
     },
     "execution_count": 51,
     "metadata": {},
     "output_type": "execute_result"
    },
    {
     "data": {
      "image/png": "[encoded data removed]",
      "text/plain": [
       "<Figure size 640x480 with 1 Axes>"
      ]
     },
     "metadata": {},
     "output_type": "display_data"
    }
   ],
   "source": [
    "import scipy.stats as stats\n",
    "stats.probplot(x_train['Age'],dist='norm',plot=plt)"
   ]
  },
  {
   "cell_type": "code",
   "execution_count": 52,
   "metadata": {},
   "outputs": [
    {
     "name": "stderr",
     "output_type": "stream",
     "text": [
      "C:\\Users\\naman\\AppData\\Local\\Temp\\ipykernel_7108\\1342796766.py:1: UserWarning: \n",
      "\n",
      "`distplot` is a deprecated function and will be removed in seaborn v0.14.0.\n",
      "\n",
      "Please adapt your code to use either `displot` (a figure-level function with\n",
      "similar flexibility) or `histplot` (an axes-level function for histograms).\n",
      "\n",
      "For a guide to updating your code to use the new functions, please see\n",
      "https://gist.github.com/mwaskom/de44147ed2974457ad6372750bbe5751\n",
      "\n",
      "  sns.distplot(x_train['Fare'])\n"
     ]
    },
    {
     "data": {
      "text/plain": [
       "<Axes: xlabel='Fare', ylabel='Density'>"
      ]
     },
     "execution_count": 52,
     "metadata": {},
     "output_type": "execute_result"
    },
    {
     "data": {
      "image/png": "[encoded data removed]",
      "text/plain": [
       "<Figure size 640x480 with 1 Axes>"
      ]
     },
     "metadata": {},
     "output_type": "display_data"
    }
   ],
   "source": [
    "sns.distplot(x_train['Fare'])"
   ]
  },
  {
   "cell_type": "code",
   "execution_count": 53,
   "metadata": {},
   "outputs": [
    {
     "data": {
      "text/plain": [
       "((array([-3.05857094, -2.78226337, -2.62730108, -2.51762488, -2.43181687,\n",
       "         -2.36087868, -2.30014358, -2.24686775, -2.19929612, -2.15623568,\n",
       "         -2.11683728, -2.08047427, -2.04667051, -2.01505545, -1.98533482,\n",
       "         -1.95727091, -1.93066884, -1.90536677, -1.88122877, -1.85813956,\n",
       "         -1.83600044, -1.81472628, -1.79424309, -1.77448615, -1.75539853,\n",
       "         -1.73692983, -1.71903527, -1.70167482, -1.68481258, -1.66841622,\n",
       "         -1.65245651, -1.63690694, -1.62174337, -1.60694377, -1.59248801,\n",
       "         -1.57835756, -1.56453542, -1.55100588, -1.53775444, -1.52476765,\n",
       "         -1.51203305, -1.49953904, -1.48727482, -1.47523031, -1.46339609,\n",
       "         -1.45176334, -1.44032379, -1.42906968, -1.41799371, -1.40708902,\n",
       "         -1.39634913, -1.38576793, -1.37533964, -1.36505881, -1.35492028,\n",
       "         -1.34491913, -1.33505073, -1.32531065, -1.31569471, -1.30619891,\n",
       "         -1.29681945, -1.28755271, -1.27839523, -1.26934373, -1.26039504,\n",
       "         -1.25154616, -1.24279421, -1.23413643, -1.22557019, -1.21709294,\n",
       "         -1.20870227, -1.20039584, -1.19217142, -1.18402686, -1.1759601 ,\n",
       "         -1.16796914, -1.16005207, -1.15220705, -1.14443231, -1.13672614,\n",
       "         -1.12908689, -1.12151297, -1.11400284, -1.10655503, -1.09916809,\n",
       "         -1.09184065, -1.08457137, -1.07735896, -1.07020215, -1.06309975,\n",
       "         -1.05605057, -1.04905348, -1.04210738, -1.03521119, -1.0283639 ,\n",
       "         -1.02156448, -1.01481196, -1.0081054 , -1.00144388, -0.99482651,\n",
       "         -0.98825241, -0.98172076, -0.97523071, -0.96878149, -0.96237231,\n",
       "         -0.95600242, -0.94967109, -0.9433776 , -0.93712126, -0.93090138,\n",
       "         -0.9247173 , -0.9185684 , -0.91245402, -0.90637357, -0.90032645,\n",
       "         -0.89431207, -0.88832987, -0.8823793 , -0.8764598 , -0.87057086,\n",
       "         -0.86471195, -0.85888258, -0.85308225, -0.84731048, -0.8415668 ,\n",
       "         -0.83585075, -0.83016188, -0.82449975, -0.81886393, -0.813254  ,\n",
       "         -0.80766955, -0.80211017, -0.79657548, -0.79106508, -0.78557859,\n",
       "         -0.78011565, -0.7746759 , -0.76925897, -0.76386452, -0.75849221,\n",
       "         -0.7531417 , -0.74781266, -0.74250478, -0.73721774, -0.73195122,\n",
       "         -0.72670492, -0.72147856, -0.71627182, -0.71108443, -0.70591611,\n",
       "         -0.70076657, -0.69563555, -0.69052278, -0.685428  , -0.68035094,\n",
       "         -0.67529137, -0.67024902, -0.66522365, -0.66021503, -0.65522292,\n",
       "         -0.65024708, -0.64528729, -0.64034333, -0.63541496, -0.63050198,\n",
       "         -0.62560418, -0.62072133, -0.61585324, -0.6109997 , -0.60616051,\n",
       "         -0.60133548, -0.5965244 , -0.59172709, -0.58694336, -0.58217303,\n",
       "         -0.57741591, -0.57267182, -0.56794058, -0.56322202, -0.55851597,\n",
       "         -0.55382225, -0.54914071, -0.54447117, -0.53981347, -0.53516745,\n",
       "         -0.53053296, -0.52590983, -0.52129792, -0.51669707, -0.51210713,\n",
       "         -0.50752795, -0.50295939, -0.49840131, -0.49385356, -0.48931599,\n",
       "         -0.48478848, -0.48027089, -0.47576307, -0.47126491, -0.46677625,\n",
       "         -0.46229699, -0.45782698, -0.4533661 , -0.44891422, -0.44447122,\n",
       "         -0.44003698, -0.43561137, -0.43119428, -0.42678559, -0.42238517,\n",
       "         -0.41799292, -0.41360872, -0.40923246, -0.40486402, -0.40050329,\n",
       "         -0.39615016, -0.39180453, -0.38746628, -0.38313531, -0.37881152,\n",
       "         -0.3744948 , -0.37018505, -0.36588216, -0.36158603, -0.35729657,\n",
       "         -0.35301368, -0.34873724, -0.34446718, -0.34020339, -0.33594577,\n",
       "         -0.33169423, -0.32744869, -0.32320903, -0.31897518, -0.31474704,\n",
       "         -0.31052451, -0.30630752, -0.30209597, -0.29788977, -0.29368883,\n",
       "         -0.28949307, -0.28530239, -0.28111673, -0.27693598, -0.27276007,\n",
       "         -0.2685889 , -0.26442241, -0.2602605 , -0.2561031 , -0.25195011,\n",
       "         -0.24780147, -0.24365709, -0.23951689, -0.23538079, -0.23124871,\n",
       "         -0.22712058, -0.22299631, -0.21887584, -0.21475907, -0.21064595,\n",
       "         -0.20653638, -0.2024303 , -0.19832763, -0.1942283 , -0.19013222,\n",
       "         -0.18603934, -0.18194956, -0.17786283, -0.17377907, -0.1696982 ,\n",
       "         -0.16562016, -0.16154487, -0.15747226, -0.15340226, -0.1493348 ,\n",
       "         -0.14526981, -0.14120722, -0.13714696, -0.13308896, -0.12903315,\n",
       "         -0.12497946, -0.12092782, -0.11687817, -0.11283043, -0.10878454,\n",
       "         -0.10474043, -0.10069804, -0.09665728, -0.09261811, -0.08858044,\n",
       "         -0.08454422, -0.08050938, -0.07647585, -0.07244356, -0.06841244,\n",
       "         -0.06438244, -0.06035349, -0.05632551, -0.05229845, -0.04827223,\n",
       "         -0.0442468 , -0.04022209, -0.03619802, -0.03217455, -0.02815159,\n",
       "         -0.02412909, -0.02010698, -0.01608519, -0.01206367, -0.00804234,\n",
       "         -0.00402114,  0.        ,  0.00402114,  0.00804234,  0.01206367,\n",
       "          0.01608519,  0.02010698,  0.02412909,  0.02815159,  0.03217455,\n",
       "          0.03619802,  0.04022209,  0.0442468 ,  0.04827223,  0.05229845,\n",
       "          0.05632551,  0.06035349,  0.06438244,  0.06841244,  0.07244356,\n",
       "          0.07647585,  0.08050938,  0.08454422,  0.08858044,  0.09261811,\n",
       "          0.09665728,  0.10069804,  0.10474043,  0.10878454,  0.11283043,\n",
       "          0.11687817,  0.12092782,  0.12497946,  0.12903315,  0.13308896,\n",
       "          0.13714696,  0.14120722,  0.14526981,  0.1493348 ,  0.15340226,\n",
       "          0.15747226,  0.16154487,  0.16562016,  0.1696982 ,  0.17377907,\n",
       "          0.17786283,  0.18194956,  0.18603934,  0.19013222,  0.1942283 ,\n",
       "          0.19832763,  0.2024303 ,  0.20653638,  0.21064595,  0.21475907,\n",
       "          0.21887584,  0.22299631,  0.22712058,  0.23124871,  0.23538079,\n",
       "          0.23951689,  0.24365709,  0.24780147,  0.25195011,  0.2561031 ,\n",
       "          0.2602605 ,  0.26442241,  0.2685889 ,  0.27276007,  0.27693598,\n",
       "          0.28111673,  0.28530239,  0.28949307,  0.29368883,  0.29788977,\n",
       "          0.30209597,  0.30630752,  0.31052451,  0.31474704,  0.31897518,\n",
       "          0.32320903,  0.32744869,  0.33169423,  0.33594577,  0.34020339,\n",
       "          0.34446718,  0.34873724,  0.35301368,  0.35729657,  0.36158603,\n",
       "          0.36588216,  0.37018505,  0.3744948 ,  0.37881152,  0.38313531,\n",
       "          0.38746628,  0.39180453,  0.39615016,  0.40050329,  0.40486402,\n",
       "          0.40923246,  0.41360872,  0.41799292,  0.42238517,  0.42678559,\n",
       "          0.43119428,  0.43561137,  0.44003698,  0.44447122,  0.44891422,\n",
       "          0.4533661 ,  0.45782698,  0.46229699,  0.46677625,  0.47126491,\n",
       "          0.47576307,  0.48027089,  0.48478848,  0.48931599,  0.49385356,\n",
       "          0.49840131,  0.50295939,  0.50752795,  0.51210713,  0.51669707,\n",
       "          0.52129792,  0.52590983,  0.53053296,  0.53516745,  0.53981347,\n",
       "          0.54447117,  0.54914071,  0.55382225,  0.55851597,  0.56322202,\n",
       "          0.56794058,  0.57267182,  0.57741591,  0.58217303,  0.58694336,\n",
       "          0.59172709,  0.5965244 ,  0.60133548,  0.60616051,  0.6109997 ,\n",
       "          0.61585324,  0.62072133,  0.62560418,  0.63050198,  0.63541496,\n",
       "          0.64034333,  0.64528729,  0.65024708,  0.65522292,  0.66021503,\n",
       "          0.66522365,  0.67024902,  0.67529137,  0.68035094,  0.685428  ,\n",
       "          0.69052278,  0.69563555,  0.70076657,  0.70591611,  0.71108443,\n",
       "          0.71627182,  0.72147856,  0.72670492,  0.73195122,  0.73721774,\n",
       "          0.74250478,  0.74781266,  0.7531417 ,  0.75849221,  0.76386452,\n",
       "          0.76925897,  0.7746759 ,  0.78011565,  0.78557859,  0.79106508,\n",
       "          0.79657548,  0.80211017,  0.80766955,  0.813254  ,  0.81886393,\n",
       "          0.82449975,  0.83016188,  0.83585075,  0.8415668 ,  0.84731048,\n",
       "          0.85308225,  0.85888258,  0.86471195,  0.87057086,  0.8764598 ,\n",
       "          0.8823793 ,  0.88832987,  0.89431207,  0.90032645,  0.90637357,\n",
       "          0.91245402,  0.9185684 ,  0.9247173 ,  0.93090138,  0.93712126,\n",
       "          0.9433776 ,  0.94967109,  0.95600242,  0.96237231,  0.96878149,\n",
       "          0.97523071,  0.98172076,  0.98825241,  0.99482651,  1.00144388,\n",
       "          1.0081054 ,  1.01481196,  1.02156448,  1.0283639 ,  1.03521119,\n",
       "          1.04210738,  1.04905348,  1.05605057,  1.06309975,  1.07020215,\n",
       "          1.07735896,  1.08457137,  1.09184065,  1.09916809,  1.10655503,\n",
       "          1.11400284,  1.12151297,  1.12908689,  1.13672614,  1.14443231,\n",
       "          1.15220705,  1.16005207,  1.16796914,  1.1759601 ,  1.18402686,\n",
       "          1.19217142,  1.20039584,  1.20870227,  1.21709294,  1.22557019,\n",
       "          1.23413643,  1.24279421,  1.25154616,  1.26039504,  1.26934373,\n",
       "          1.27839523,  1.28755271,  1.29681945,  1.30619891,  1.31569471,\n",
       "          1.32531065,  1.33505073,  1.34491913,  1.35492028,  1.36505881,\n",
       "          1.37533964,  1.38576793,  1.39634913,  1.40708902,  1.41799371,\n",
       "          1.42906968,  1.44032379,  1.45176334,  1.46339609,  1.47523031,\n",
       "          1.48727482,  1.49953904,  1.51203305,  1.52476765,  1.53775444,\n",
       "          1.55100588,  1.56453542,  1.57835756,  1.59248801,  1.60694377,\n",
       "          1.62174337,  1.63690694,  1.65245651,  1.66841622,  1.68481258,\n",
       "          1.70167482,  1.71903527,  1.73692983,  1.75539853,  1.77448615,\n",
       "          1.79424309,  1.81472628,  1.83600044,  1.85813956,  1.88122877,\n",
       "          1.90536677,  1.93066884,  1.95727091,  1.98533482,  2.01505545,\n",
       "          2.04667051,  2.08047427,  2.11683728,  2.15623568,  2.19929612,\n",
       "          2.24686775,  2.30014358,  2.36087868,  2.43181687,  2.51762488,\n",
       "          2.62730108,  2.78226337,  3.05857094]),\n",
       "  array([  0.    ,   0.    ,   0.    ,   0.    ,   0.    ,   0.    ,\n",
       "           0.    ,   0.    ,   0.    ,   0.    ,   0.    ,   4.0125,\n",
       "           5.    ,   6.45  ,   6.4958,   6.4958,   6.75  ,   6.75  ,\n",
       "           6.8583,   6.95  ,   6.975 ,   7.05  ,   7.05  ,   7.0542,\n",
       "           7.125 ,   7.125 ,   7.1417,   7.225 ,   7.225 ,   7.225 ,\n",
       "           7.225 ,   7.225 ,   7.225 ,   7.225 ,   7.225 ,   7.225 ,\n",
       "           7.2292,   7.2292,   7.2292,   7.2292,   7.2292,   7.2292,\n",
       "           7.2292,   7.2292,   7.2292,   7.2292,   7.25  ,   7.25  ,\n",
       "           7.25  ,   7.25  ,   7.25  ,   7.25  ,   7.25  ,   7.3125,\n",
       "           7.4958,   7.4958,   7.55  ,   7.55  ,   7.6292,   7.65  ,\n",
       "           7.65  ,   7.65  ,   7.65  ,   7.7333,   7.7333,   7.7333,\n",
       "           7.7333,   7.7375,   7.7417,   7.75  ,   7.75  ,   7.75  ,\n",
       "           7.75  ,   7.75  ,   7.75  ,   7.75  ,   7.75  ,   7.75  ,\n",
       "           7.75  ,   7.75  ,   7.75  ,   7.75  ,   7.75  ,   7.75  ,\n",
       "           7.75  ,   7.75  ,   7.75  ,   7.75  ,   7.75  ,   7.75  ,\n",
       "           7.75  ,   7.75  ,   7.75  ,   7.775 ,   7.775 ,   7.775 ,\n",
       "           7.775 ,   7.775 ,   7.775 ,   7.775 ,   7.775 ,   7.775 ,\n",
       "           7.775 ,   7.775 ,   7.775 ,   7.7958,   7.7958,   7.7958,\n",
       "           7.7958,   7.7958,   7.8   ,   7.8292,   7.8542,   7.8542,\n",
       "           7.8542,   7.8542,   7.8542,   7.8542,   7.8542,   7.8542,\n",
       "           7.8792,   7.8792,   7.8875,   7.8958,   7.8958,   7.8958,\n",
       "           7.8958,   7.8958,   7.8958,   7.8958,   7.8958,   7.8958,\n",
       "           7.8958,   7.8958,   7.8958,   7.8958,   7.8958,   7.8958,\n",
       "           7.8958,   7.8958,   7.8958,   7.8958,   7.8958,   7.8958,\n",
       "           7.8958,   7.8958,   7.8958,   7.8958,   7.8958,   7.8958,\n",
       "           7.8958,   7.8958,   7.925 ,   7.925 ,   7.925 ,   7.925 ,\n",
       "           7.925 ,   7.925 ,   7.925 ,   7.925 ,   7.925 ,   7.925 ,\n",
       "           7.925 ,   7.925 ,   7.925 ,   7.925 ,   7.925 ,   8.0292,\n",
       "           8.05  ,   8.05  ,   8.05  ,   8.05  ,   8.05  ,   8.05  ,\n",
       "           8.05  ,   8.05  ,   8.05  ,   8.05  ,   8.05  ,   8.05  ,\n",
       "           8.05  ,   8.05  ,   8.05  ,   8.05  ,   8.05  ,   8.05  ,\n",
       "           8.05  ,   8.05  ,   8.05  ,   8.05  ,   8.05  ,   8.05  ,\n",
       "           8.05  ,   8.05  ,   8.05  ,   8.05  ,   8.05  ,   8.05  ,\n",
       "           8.05  ,   8.05  ,   8.1125,   8.1375,   8.3   ,   8.3625,\n",
       "           8.4042,   8.5167,   8.6542,   8.6625,   8.6625,   8.6625,\n",
       "           8.6625,   8.6625,   8.6625,   8.6625,   8.6625,   8.6833,\n",
       "           8.85  ,   9.    ,   9.    ,   9.2167,   9.35  ,   9.35  ,\n",
       "           9.475 ,   9.5   ,   9.5   ,   9.5   ,   9.5   ,   9.5   ,\n",
       "           9.5   ,   9.5875,   9.825 ,   9.825 ,   9.8375,  10.1708,\n",
       "          10.4625,  10.4625,  10.5   ,  10.5   ,  10.5   ,  10.5   ,\n",
       "          10.5   ,  10.5   ,  10.5   ,  10.5   ,  10.5   ,  10.5   ,\n",
       "          10.5   ,  10.5   ,  10.5   ,  10.5   ,  10.5   ,  10.5   ,\n",
       "          10.5167,  11.1333,  11.1333,  11.1333,  11.2417,  11.5   ,\n",
       "          11.5   ,  11.5   ,  12.    ,  12.2875,  12.35  ,  12.35  ,\n",
       "          12.475 ,  12.475 ,  12.525 ,  12.65  ,  13.    ,  13.    ,\n",
       "          13.    ,  13.    ,  13.    ,  13.    ,  13.    ,  13.    ,\n",
       "          13.    ,  13.    ,  13.    ,  13.    ,  13.    ,  13.    ,\n",
       "          13.    ,  13.    ,  13.    ,  13.    ,  13.    ,  13.    ,\n",
       "          13.    ,  13.    ,  13.    ,  13.    ,  13.    ,  13.    ,\n",
       "          13.    ,  13.    ,  13.4167,  13.5   ,  13.5   ,  13.5   ,\n",
       "          13.5   ,  13.7917,  13.8583,  13.8625,  14.    ,  14.1083,\n",
       "          14.4   ,  14.4   ,  14.4542,  14.4542,  14.4542,  14.4542,\n",
       "          14.4583,  14.5   ,  14.5   ,  14.5   ,  14.5   ,  14.5   ,\n",
       "          15.    ,  15.0458,  15.05  ,  15.1   ,  15.2458,  15.2458,\n",
       "          15.5   ,  15.5   ,  15.5   ,  15.5   ,  15.5   ,  15.5   ,\n",
       "          15.5   ,  15.7417,  15.7417,  15.75  ,  15.85  ,  15.85  ,\n",
       "          15.85  ,  15.85  ,  15.9   ,  15.9   ,  16.    ,  16.1   ,\n",
       "          16.1   ,  16.1   ,  16.1   ,  16.1   ,  16.1   ,  16.1   ,\n",
       "          16.1   ,  16.1   ,  16.7   ,  17.4   ,  17.8   ,  18.    ,\n",
       "          18.    ,  18.75  ,  18.75  ,  18.75  ,  18.7875,  18.7875,\n",
       "          19.2583,  19.2583,  19.2583,  19.5   ,  19.9667,  19.9667,\n",
       "          20.25  ,  20.25  ,  20.525 ,  20.525 ,  20.575 ,  20.575 ,\n",
       "          21.    ,  21.    ,  21.    ,  21.    ,  21.075 ,  21.075 ,\n",
       "          21.075 ,  21.6792,  22.025 ,  22.3583,  22.525 ,  23.    ,\n",
       "          23.    ,  23.    ,  23.    ,  23.25  ,  23.25  ,  23.45  ,\n",
       "          23.45  ,  24.    ,  24.    ,  24.15  ,  24.15  ,  24.15  ,\n",
       "          24.15  ,  24.15  ,  24.15  ,  25.4667,  25.4667,  25.5875,\n",
       "          25.9292,  26.    ,  26.    ,  26.    ,  26.    ,  26.    ,\n",
       "          26.    ,  26.    ,  26.    ,  26.    ,  26.    ,  26.    ,\n",
       "          26.    ,  26.    ,  26.    ,  26.    ,  26.    ,  26.    ,\n",
       "          26.    ,  26.    ,  26.25  ,  26.25  ,  26.25  ,  26.25  ,\n",
       "          26.25  ,  26.2875,  26.2875,  26.55  ,  26.55  ,  26.55  ,\n",
       "          26.55  ,  26.55  ,  26.55  ,  26.55  ,  26.55  ,  26.55  ,\n",
       "          27.    ,  27.    ,  27.7208,  27.7208,  27.7208,  27.75  ,\n",
       "          27.75  ,  27.75  ,  27.75  ,  27.9   ,  27.9   ,  27.9   ,\n",
       "          28.7125,  29.125 ,  29.125 ,  29.125 ,  29.125 ,  29.7   ,\n",
       "          29.7   ,  29.7   ,  30.    ,  30.    ,  30.    ,  30.    ,\n",
       "          30.0708,  30.0708,  30.5   ,  30.5   ,  30.5   ,  31.    ,\n",
       "          31.275 ,  31.275 ,  31.275 ,  31.275 ,  31.3875,  31.3875,\n",
       "          31.3875,  33.    ,  33.    ,  33.5   ,  34.0208,  34.375 ,\n",
       "          34.375 ,  35.    ,  35.5   ,  35.5   ,  36.75  ,  36.75  ,\n",
       "          37.0042,  37.0042,  39.    ,  39.    ,  39.    ,  39.6   ,\n",
       "          39.6   ,  39.6875,  39.6875,  39.6875,  39.6875,  39.6875,\n",
       "          40.125 ,  41.5792,  41.5792,  41.5792,  42.4   ,  46.9   ,\n",
       "          46.9   ,  46.9   ,  46.9   ,  46.9   ,  46.9   ,  47.1   ,\n",
       "          49.5042,  50.    ,  50.4958,  51.4792,  51.8625,  52.    ,\n",
       "          52.    ,  52.    ,  52.    ,  52.5542,  52.5542,  53.1   ,\n",
       "          53.1   ,  53.1   ,  53.1   ,  55.    ,  55.    ,  55.4417,\n",
       "          55.9   ,  55.9   ,  56.4958,  56.4958,  56.4958,  56.4958,\n",
       "          56.4958,  56.4958,  57.    ,  57.9792,  57.9792,  59.4   ,\n",
       "          61.175 ,  65.    ,  65.    ,  66.6   ,  66.6   ,  69.3   ,\n",
       "          69.3   ,  69.55  ,  69.55  ,  69.55  ,  69.55  ,  69.55  ,\n",
       "          69.55  ,  69.55  ,  71.    ,  71.    ,  71.2833,  73.5   ,\n",
       "          73.5   ,  73.5   ,  75.25  ,  76.7292,  76.7292,  76.7292,\n",
       "          77.2875,  77.2875,  77.9583,  78.2667,  78.85  ,  79.2   ,\n",
       "          79.2   ,  79.2   ,  79.65  ,  79.65  ,  80.    ,  81.8583,\n",
       "          82.1708,  83.1583,  83.1583,  83.475 ,  83.475 ,  86.5   ,\n",
       "          86.5   ,  86.5   ,  89.1042,  90.    ,  90.    ,  91.0792,\n",
       "          93.5   , 106.425 , 108.9   , 108.9   , 110.8833, 110.8833,\n",
       "         110.8833, 113.275 , 120.    , 120.    , 133.65  , 134.5   ,\n",
       "         135.6333, 135.6333, 135.6333, 146.5208, 151.55  , 151.55  ,\n",
       "         153.4625, 153.4625, 153.4625, 164.8667, 164.8667, 211.3375,\n",
       "         211.3375, 211.3375, 227.525 , 227.525 , 263.    , 263.    ,\n",
       "         263.    , 263.    , 512.3292, 512.3292, 512.3292])),\n",
       " (35.75060097772002, 31.840729534510434, 0.6982340506766913))"
      ]
     },
     "execution_count": 53,
     "metadata": {},
     "output_type": "execute_result"
    },
    {
     "data": {
      "image/png": "[encoded data removed]",
      "text/plain": [
       "<Figure size 640x480 with 1 Axes>"
      ]
     },
     "metadata": {},
     "output_type": "display_data"
    }
   ],
   "source": [
    "stats.probplot(x_train['Fare'],dist='norm',plot=plt)"
   ]
  },
  {
   "cell_type": "code",
   "execution_count": 54,
   "metadata": {},
   "outputs": [],
   "source": [
    "from sklearn.linear_model import LogisticRegression\n",
    "from sklearn.tree import DecisionTreeClassifier"
   ]
  },
  {
   "cell_type": "code",
   "execution_count": 55,
   "metadata": {},
   "outputs": [],
   "source": [
    "clf=LogisticRegression()\n",
    "clf1=DecisionTreeClassifier()"
   ]
  },
  {
   "cell_type": "code",
   "execution_count": 56,
   "metadata": {},
   "outputs": [
    {
     "name": "stderr",
     "output_type": "stream",
     "text": [
      "c:\\Users\\naman\\AppData\\Local\\Programs\\Python\\Python311\\Lib\\site-packages\\sklearn\\utils\\validation.py:1184: DataConversionWarning: A column-vector y was passed when a 1d array was expected. Please change the shape of y to (n_samples, ), for example using ravel().\n",
      "  y = column_or_1d(y, warn=True)\n"
     ]
    },
    {
     "data": {
      "text/html": [
       "<style>#sk-container-id-2 {color: black;}#sk-container-id-2 pre{padding: 0;}#sk-container-id-2 div.sk-toggleable {background-color: white;}#sk-container-id-2 label.sk-toggleable__label {cursor: pointer;display: block;width: 100%;margin-bottom: 0;padding: 0.3em;box-sizing: border-box;text-align: center;}#sk-container-id-2 label.sk-toggleable__label-arrow:before {content: \"▸\";float: left;margin-right: 0.25em;color: #696969;}#sk-container-id-2 label.sk-toggleable__label-arrow:hover:before {color: black;}#sk-container-id-2 div.sk-estimator:hover label.sk-toggleable__label-arrow:before {color: black;}#sk-container-id-2 div.sk-toggleable__content {max-height: 0;max-width: 0;overflow: hidden;text-align: left;background-color: #f0f8ff;}#sk-container-id-2 div.sk-toggleable__content pre {margin: 0.2em;color: black;border-radius: 0.25em;background-color: #f0f8ff;}#sk-container-id-2 input.sk-toggleable__control:checked~div.sk-toggleable__content {max-height: 200px;max-width: 100%;overflow: auto;}#sk-container-id-2 input.sk-toggleable__control:checked~label.sk-toggleable__label-arrow:before {content: \"▾\";}#sk-container-id-2 div.sk-estimator input.sk-toggleable__control:checked~label.sk-toggleable__label {background-color: #d4ebff;}#sk-container-id-2 div.sk-label input.sk-toggleable__control:checked~label.sk-toggleable__label {background-color: #d4ebff;}#sk-container-id-2 input.sk-hidden--visually {border: 0;clip: rect(1px 1px 1px 1px);clip: rect(1px, 1px, 1px, 1px);height: 1px;margin: -1px;overflow: hidden;padding: 0;position: absolute;width: 1px;}#sk-container-id-2 div.sk-estimator {font-family: monospace;background-color: #f0f8ff;border: 1px dotted black;border-radius: 0.25em;box-sizing: border-box;margin-bottom: 0.5em;}#sk-container-id-2 div.sk-estimator:hover {background-color: #d4ebff;}#sk-container-id-2 div.sk-parallel-item::after {content: \"\";width: 100%;border-bottom: 1px solid gray;flex-grow: 1;}#sk-container-id-2 div.sk-label:hover label.sk-toggleable__label {background-color: #d4ebff;}#sk-container-id-2 div.sk-serial::before {content: \"\";position: absolute;border-left: 1px solid gray;box-sizing: border-box;top: 0;bottom: 0;left: 50%;z-index: 0;}#sk-container-id-2 div.sk-serial {display: flex;flex-direction: column;align-items: center;background-color: white;padding-right: 0.2em;padding-left: 0.2em;position: relative;}#sk-container-id-2 div.sk-item {position: relative;z-index: 1;}#sk-container-id-2 div.sk-parallel {display: flex;align-items: stretch;justify-content: center;background-color: white;position: relative;}#sk-container-id-2 div.sk-item::before, #sk-container-id-2 div.sk-parallel-item::before {content: \"\";position: absolute;border-left: 1px solid gray;box-sizing: border-box;top: 0;bottom: 0;left: 50%;z-index: -1;}#sk-container-id-2 div.sk-parallel-item {display: flex;flex-direction: column;z-index: 1;position: relative;background-color: white;}#sk-container-id-2 div.sk-parallel-item:first-child::after {align-self: flex-end;width: 50%;}#sk-container-id-2 div.sk-parallel-item:last-child::after {align-self: flex-start;width: 50%;}#sk-container-id-2 div.sk-parallel-item:only-child::after {width: 0;}#sk-container-id-2 div.sk-dashed-wrapped {border: 1px dashed gray;margin: 0 0.4em 0.5em 0.4em;box-sizing: border-box;padding-bottom: 0.4em;background-color: white;}#sk-container-id-2 div.sk-label label {font-family: monospace;font-weight: bold;display: inline-block;line-height: 1.2em;}#sk-container-id-2 div.sk-label-container {text-align: center;}#sk-container-id-2 div.sk-container {/* jupyter's `normalize.less` sets `[hidden] { display: none; }` but bootstrap.min.css set `[hidden] { display: none !important; }` so we also need the `!important` here to be able to override the default hidden behavior on the sphinx rendered scikit-learn.org. See: https://github.com/scikit-learn/scikit-learn/issues/21755 */display: inline-block !important;position: relative;}#sk-container-id-2 div.sk-text-repr-fallback {display: none;}</style><div id=\"sk-container-id-2\" class=\"sk-top-container\"><div class=\"sk-text-repr-fallback\"><pre>DecisionTreeClassifier()</pre><b>In a Jupyter environment, please rerun this cell to show the HTML representation or trust the notebook. <br />On GitHub, the HTML representation is unable to render, please try loading this page with nbviewer.org.</b></div><div class=\"sk-container\" hidden><div class=\"sk-item\"><div class=\"sk-estimator sk-toggleable\"><input class=\"sk-toggleable__control sk-hidden--visually\" id=\"sk-estimator-id-2\" type=\"checkbox\" checked><label for=\"sk-estimator-id-2\" class=\"sk-toggleable__label sk-toggleable__label-arrow\">DecisionTreeClassifier</label><div class=\"sk-toggleable__content\"><pre>DecisionTreeClassifier()</pre></div></div></div></div></div>"
      ],
      "text/plain": [
       "DecisionTreeClassifier()"
      ]
     },
     "execution_count": 56,
     "metadata": {},
     "output_type": "execute_result"
    }
   ],
   "source": [
    "clf.fit(x_train,y_train)\n",
    "clf1.fit(x_train,y_train)"
   ]
  },
  {
   "cell_type": "code",
   "execution_count": 57,
   "metadata": {},
   "outputs": [
    {
     "data": {
      "text/plain": [
       "(623, 1)"
      ]
     },
     "execution_count": 57,
     "metadata": {},
     "output_type": "execute_result"
    }
   ],
   "source": [
    "y_train.shape"
   ]
  },
  {
   "cell_type": "code",
   "execution_count": 58,
   "metadata": {},
   "outputs": [
    {
     "data": {
      "text/plain": [
       "(268, 1)"
      ]
     },
     "execution_count": 58,
     "metadata": {},
     "output_type": "execute_result"
    }
   ],
   "source": [
    "y_test.shape"
   ]
  },
  {
   "cell_type": "code",
   "execution_count": 59,
   "metadata": {},
   "outputs": [
    {
     "data": {
      "text/plain": [
       "(623, 2)"
      ]
     },
     "execution_count": 59,
     "metadata": {},
     "output_type": "execute_result"
    }
   ],
   "source": [
    "x_train.shape"
   ]
  },
  {
   "cell_type": "code",
   "execution_count": null,
   "metadata": {},
   "outputs": [],
   "source": []
  },
  {
   "cell_type": "code",
   "execution_count": 60,
   "metadata": {},
   "outputs": [
    {
     "name": "stdout",
     "output_type": "stream",
     "text": [
      "Accuracy Score of Linear Model is: 0.6529850746268657\n",
      "Accuracy Score of Decision Tree Classifier Model is: 0.6828358208955224\n"
     ]
    }
   ],
   "source": [
    "from sklearn.metrics import accuracy_score\n",
    "\n",
    "y_pred=clf.predict(x_test)\n",
    "# print(y_pred.shape)\n",
    "y1_pred=clf1.predict(x_test)\n",
    "print(\"Accuracy Score of Linear Model is:\",accuracy_score(y_test,y_pred))\n",
    "print(\"Accuracy Score of Decision Tree Classifier Model is:\",accuracy_score(y_test,y1_pred))"
   ]
  },
  {
   "cell_type": "code",
   "execution_count": 61,
   "metadata": {},
   "outputs": [],
   "source": [
    "from sklearn.preprocessing import FunctionTransformer"
   ]
  },
  {
   "cell_type": "code",
   "execution_count": 62,
   "metadata": {},
   "outputs": [],
   "source": [
    "trf=FunctionTransformer(func=np.log1p)\n",
    "x_train_transformed=trf.fit_transform(x_train,y_train)\n",
    "x_test_transformed=trf.transform(x_test)"
   ]
  },
  {
   "cell_type": "code",
   "execution_count": 63,
   "metadata": {},
   "outputs": [
    {
     "name": "stdout",
     "output_type": "stream",
     "text": [
      "Accuracy Score of Linear Model is: 0.6791044776119403\n",
      "Accuracy Score of Decision Tree Classifier Model is: 0.6791044776119403\n"
     ]
    },
    {
     "name": "stderr",
     "output_type": "stream",
     "text": [
      "c:\\Users\\naman\\AppData\\Local\\Programs\\Python\\Python311\\Lib\\site-packages\\sklearn\\utils\\validation.py:1184: DataConversionWarning: A column-vector y was passed when a 1d array was expected. Please change the shape of y to (n_samples, ), for example using ravel().\n",
      "  y = column_or_1d(y, warn=True)\n"
     ]
    }
   ],
   "source": [
    "clf=LogisticRegression()\n",
    "clf1=DecisionTreeClassifier()\n",
    "clf.fit(x_train_transformed,y_train)\n",
    "clf1.fit(x_train_transformed,y_train)\n",
    "y_predict_trans=clf.predict(x_test_transformed)\n",
    "y1_predict_trans=clf1.predict(x_test_transformed)\n",
    "print(\"Accuracy Score of Linear Model is:\",accuracy_score(y_test,y_predict_trans))\n",
    "print(\"Accuracy Score of Decision Tree Classifier Model is:\",accuracy_score(y_test,y1_predict_trans))"
   ]
  },
  {
   "cell_type": "code",
   "execution_count": 64,
   "metadata": {},
   "outputs": [
    {
     "data": {
      "text/plain": [
       "((array([-3.05857094, -2.78226337, -2.62730108, -2.51762488, -2.43181687,\n",
       "         -2.36087868, -2.30014358, -2.24686775, -2.19929612, -2.15623568,\n",
       "         -2.11683728, -2.08047427, -2.04667051, -2.01505545, -1.98533482,\n",
       "         -1.95727091, -1.93066884, -1.90536677, -1.88122877, -1.85813956,\n",
       "         -1.83600044, -1.81472628, -1.79424309, -1.77448615, -1.75539853,\n",
       "         -1.73692983, -1.71903527, -1.70167482, -1.68481258, -1.66841622,\n",
       "         -1.65245651, -1.63690694, -1.62174337, -1.60694377, -1.59248801,\n",
       "         -1.57835756, -1.56453542, -1.55100588, -1.53775444, -1.52476765,\n",
       "         -1.51203305, -1.49953904, -1.48727482, -1.47523031, -1.46339609,\n",
       "         -1.45176334, -1.44032379, -1.42906968, -1.41799371, -1.40708902,\n",
       "         -1.39634913, -1.38576793, -1.37533964, -1.36505881, -1.35492028,\n",
       "         -1.34491913, -1.33505073, -1.32531065, -1.31569471, -1.30619891,\n",
       "         -1.29681945, -1.28755271, -1.27839523, -1.26934373, -1.26039504,\n",
       "         -1.25154616, -1.24279421, -1.23413643, -1.22557019, -1.21709294,\n",
       "         -1.20870227, -1.20039584, -1.19217142, -1.18402686, -1.1759601 ,\n",
       "         -1.16796914, -1.16005207, -1.15220705, -1.14443231, -1.13672614,\n",
       "         -1.12908689, -1.12151297, -1.11400284, -1.10655503, -1.09916809,\n",
       "         -1.09184065, -1.08457137, -1.07735896, -1.07020215, -1.06309975,\n",
       "         -1.05605057, -1.04905348, -1.04210738, -1.03521119, -1.0283639 ,\n",
       "         -1.02156448, -1.01481196, -1.0081054 , -1.00144388, -0.99482651,\n",
       "         -0.98825241, -0.98172076, -0.97523071, -0.96878149, -0.96237231,\n",
       "         -0.95600242, -0.94967109, -0.9433776 , -0.93712126, -0.93090138,\n",
       "         -0.9247173 , -0.9185684 , -0.91245402, -0.90637357, -0.90032645,\n",
       "         -0.89431207, -0.88832987, -0.8823793 , -0.8764598 , -0.87057086,\n",
       "         -0.86471195, -0.85888258, -0.85308225, -0.84731048, -0.8415668 ,\n",
       "         -0.83585075, -0.83016188, -0.82449975, -0.81886393, -0.813254  ,\n",
       "         -0.80766955, -0.80211017, -0.79657548, -0.79106508, -0.78557859,\n",
       "         -0.78011565, -0.7746759 , -0.76925897, -0.76386452, -0.75849221,\n",
       "         -0.7531417 , -0.74781266, -0.74250478, -0.73721774, -0.73195122,\n",
       "         -0.72670492, -0.72147856, -0.71627182, -0.71108443, -0.70591611,\n",
       "         -0.70076657, -0.69563555, -0.69052278, -0.685428  , -0.68035094,\n",
       "         -0.67529137, -0.67024902, -0.66522365, -0.66021503, -0.65522292,\n",
       "         -0.65024708, -0.64528729, -0.64034333, -0.63541496, -0.63050198,\n",
       "         -0.62560418, -0.62072133, -0.61585324, -0.6109997 , -0.60616051,\n",
       "         -0.60133548, -0.5965244 , -0.59172709, -0.58694336, -0.58217303,\n",
       "         -0.57741591, -0.57267182, -0.56794058, -0.56322202, -0.55851597,\n",
       "         -0.55382225, -0.54914071, -0.54447117, -0.53981347, -0.53516745,\n",
       "         -0.53053296, -0.52590983, -0.52129792, -0.51669707, -0.51210713,\n",
       "         -0.50752795, -0.50295939, -0.49840131, -0.49385356, -0.48931599,\n",
       "         -0.48478848, -0.48027089, -0.47576307, -0.47126491, -0.46677625,\n",
       "         -0.46229699, -0.45782698, -0.4533661 , -0.44891422, -0.44447122,\n",
       "         -0.44003698, -0.43561137, -0.43119428, -0.42678559, -0.42238517,\n",
       "         -0.41799292, -0.41360872, -0.40923246, -0.40486402, -0.40050329,\n",
       "         -0.39615016, -0.39180453, -0.38746628, -0.38313531, -0.37881152,\n",
       "         -0.3744948 , -0.37018505, -0.36588216, -0.36158603, -0.35729657,\n",
       "         -0.35301368, -0.34873724, -0.34446718, -0.34020339, -0.33594577,\n",
       "         -0.33169423, -0.32744869, -0.32320903, -0.31897518, -0.31474704,\n",
       "         -0.31052451, -0.30630752, -0.30209597, -0.29788977, -0.29368883,\n",
       "         -0.28949307, -0.28530239, -0.28111673, -0.27693598, -0.27276007,\n",
       "         -0.2685889 , -0.26442241, -0.2602605 , -0.2561031 , -0.25195011,\n",
       "         -0.24780147, -0.24365709, -0.23951689, -0.23538079, -0.23124871,\n",
       "         -0.22712058, -0.22299631, -0.21887584, -0.21475907, -0.21064595,\n",
       "         -0.20653638, -0.2024303 , -0.19832763, -0.1942283 , -0.19013222,\n",
       "         -0.18603934, -0.18194956, -0.17786283, -0.17377907, -0.1696982 ,\n",
       "         -0.16562016, -0.16154487, -0.15747226, -0.15340226, -0.1493348 ,\n",
       "         -0.14526981, -0.14120722, -0.13714696, -0.13308896, -0.12903315,\n",
       "         -0.12497946, -0.12092782, -0.11687817, -0.11283043, -0.10878454,\n",
       "         -0.10474043, -0.10069804, -0.09665728, -0.09261811, -0.08858044,\n",
       "         -0.08454422, -0.08050938, -0.07647585, -0.07244356, -0.06841244,\n",
       "         -0.06438244, -0.06035349, -0.05632551, -0.05229845, -0.04827223,\n",
       "         -0.0442468 , -0.04022209, -0.03619802, -0.03217455, -0.02815159,\n",
       "         -0.02412909, -0.02010698, -0.01608519, -0.01206367, -0.00804234,\n",
       "         -0.00402114,  0.        ,  0.00402114,  0.00804234,  0.01206367,\n",
       "          0.01608519,  0.02010698,  0.02412909,  0.02815159,  0.03217455,\n",
       "          0.03619802,  0.04022209,  0.0442468 ,  0.04827223,  0.05229845,\n",
       "          0.05632551,  0.06035349,  0.06438244,  0.06841244,  0.07244356,\n",
       "          0.07647585,  0.08050938,  0.08454422,  0.08858044,  0.09261811,\n",
       "          0.09665728,  0.10069804,  0.10474043,  0.10878454,  0.11283043,\n",
       "          0.11687817,  0.12092782,  0.12497946,  0.12903315,  0.13308896,\n",
       "          0.13714696,  0.14120722,  0.14526981,  0.1493348 ,  0.15340226,\n",
       "          0.15747226,  0.16154487,  0.16562016,  0.1696982 ,  0.17377907,\n",
       "          0.17786283,  0.18194956,  0.18603934,  0.19013222,  0.1942283 ,\n",
       "          0.19832763,  0.2024303 ,  0.20653638,  0.21064595,  0.21475907,\n",
       "          0.21887584,  0.22299631,  0.22712058,  0.23124871,  0.23538079,\n",
       "          0.23951689,  0.24365709,  0.24780147,  0.25195011,  0.2561031 ,\n",
       "          0.2602605 ,  0.26442241,  0.2685889 ,  0.27276007,  0.27693598,\n",
       "          0.28111673,  0.28530239,  0.28949307,  0.29368883,  0.29788977,\n",
       "          0.30209597,  0.30630752,  0.31052451,  0.31474704,  0.31897518,\n",
       "          0.32320903,  0.32744869,  0.33169423,  0.33594577,  0.34020339,\n",
       "          0.34446718,  0.34873724,  0.35301368,  0.35729657,  0.36158603,\n",
       "          0.36588216,  0.37018505,  0.3744948 ,  0.37881152,  0.38313531,\n",
       "          0.38746628,  0.39180453,  0.39615016,  0.40050329,  0.40486402,\n",
       "          0.40923246,  0.41360872,  0.41799292,  0.42238517,  0.42678559,\n",
       "          0.43119428,  0.43561137,  0.44003698,  0.44447122,  0.44891422,\n",
       "          0.4533661 ,  0.45782698,  0.46229699,  0.46677625,  0.47126491,\n",
       "          0.47576307,  0.48027089,  0.48478848,  0.48931599,  0.49385356,\n",
       "          0.49840131,  0.50295939,  0.50752795,  0.51210713,  0.51669707,\n",
       "          0.52129792,  0.52590983,  0.53053296,  0.53516745,  0.53981347,\n",
       "          0.54447117,  0.54914071,  0.55382225,  0.55851597,  0.56322202,\n",
       "          0.56794058,  0.57267182,  0.57741591,  0.58217303,  0.58694336,\n",
       "          0.59172709,  0.5965244 ,  0.60133548,  0.60616051,  0.6109997 ,\n",
       "          0.61585324,  0.62072133,  0.62560418,  0.63050198,  0.63541496,\n",
       "          0.64034333,  0.64528729,  0.65024708,  0.65522292,  0.66021503,\n",
       "          0.66522365,  0.67024902,  0.67529137,  0.68035094,  0.685428  ,\n",
       "          0.69052278,  0.69563555,  0.70076657,  0.70591611,  0.71108443,\n",
       "          0.71627182,  0.72147856,  0.72670492,  0.73195122,  0.73721774,\n",
       "          0.74250478,  0.74781266,  0.7531417 ,  0.75849221,  0.76386452,\n",
       "          0.76925897,  0.7746759 ,  0.78011565,  0.78557859,  0.79106508,\n",
       "          0.79657548,  0.80211017,  0.80766955,  0.813254  ,  0.81886393,\n",
       "          0.82449975,  0.83016188,  0.83585075,  0.8415668 ,  0.84731048,\n",
       "          0.85308225,  0.85888258,  0.86471195,  0.87057086,  0.8764598 ,\n",
       "          0.8823793 ,  0.88832987,  0.89431207,  0.90032645,  0.90637357,\n",
       "          0.91245402,  0.9185684 ,  0.9247173 ,  0.93090138,  0.93712126,\n",
       "          0.9433776 ,  0.94967109,  0.95600242,  0.96237231,  0.96878149,\n",
       "          0.97523071,  0.98172076,  0.98825241,  0.99482651,  1.00144388,\n",
       "          1.0081054 ,  1.01481196,  1.02156448,  1.0283639 ,  1.03521119,\n",
       "          1.04210738,  1.04905348,  1.05605057,  1.06309975,  1.07020215,\n",
       "          1.07735896,  1.08457137,  1.09184065,  1.09916809,  1.10655503,\n",
       "          1.11400284,  1.12151297,  1.12908689,  1.13672614,  1.14443231,\n",
       "          1.15220705,  1.16005207,  1.16796914,  1.1759601 ,  1.18402686,\n",
       "          1.19217142,  1.20039584,  1.20870227,  1.21709294,  1.22557019,\n",
       "          1.23413643,  1.24279421,  1.25154616,  1.26039504,  1.26934373,\n",
       "          1.27839523,  1.28755271,  1.29681945,  1.30619891,  1.31569471,\n",
       "          1.32531065,  1.33505073,  1.34491913,  1.35492028,  1.36505881,\n",
       "          1.37533964,  1.38576793,  1.39634913,  1.40708902,  1.41799371,\n",
       "          1.42906968,  1.44032379,  1.45176334,  1.46339609,  1.47523031,\n",
       "          1.48727482,  1.49953904,  1.51203305,  1.52476765,  1.53775444,\n",
       "          1.55100588,  1.56453542,  1.57835756,  1.59248801,  1.60694377,\n",
       "          1.62174337,  1.63690694,  1.65245651,  1.66841622,  1.68481258,\n",
       "          1.70167482,  1.71903527,  1.73692983,  1.75539853,  1.77448615,\n",
       "          1.79424309,  1.81472628,  1.83600044,  1.85813956,  1.88122877,\n",
       "          1.90536677,  1.93066884,  1.95727091,  1.98533482,  2.01505545,\n",
       "          2.04667051,  2.08047427,  2.11683728,  2.15623568,  2.19929612,\n",
       "          2.24686775,  2.30014358,  2.36087868,  2.43181687,  2.51762488,\n",
       "          2.62730108,  2.78226337,  3.05857094]),\n",
       "  array([0.        , 0.        , 0.        , 0.        , 0.        ,\n",
       "         0.        , 0.        , 0.        , 0.        , 0.        ,\n",
       "         0.        , 1.61193479, 1.79175947, 2.00821403, 2.01434286,\n",
       "         2.01434286, 2.04769284, 2.04769284, 2.0615703 , 2.07317193,\n",
       "         2.07631165, 2.08567209, 2.08567209, 2.08619369, 2.09494573,\n",
       "         2.09494573, 2.096999  , 2.1071783 , 2.1071783 , 2.1071783 ,\n",
       "         2.1071783 , 2.1071783 , 2.1071783 , 2.1071783 , 2.1071783 ,\n",
       "         2.1071783 , 2.1076888 , 2.1076888 , 2.1076888 , 2.1076888 ,\n",
       "         2.1076888 , 2.1076888 , 2.1076888 , 2.1076888 , 2.1076888 ,\n",
       "         2.1076888 , 2.1102132 , 2.1102132 , 2.1102132 , 2.1102132 ,\n",
       "         2.1102132 , 2.1102132 , 2.1102132 , 2.11776041, 2.13957192,\n",
       "         2.13957192, 2.14593128, 2.14593128, 2.1551518 , 2.15755932,\n",
       "         2.15755932, 2.15755932, 2.15755932, 2.16714331, 2.16714331,\n",
       "         2.16714331, 2.16714331, 2.16762411, 2.16810468, 2.1690537 ,\n",
       "         2.1690537 , 2.1690537 , 2.1690537 , 2.1690537 , 2.1690537 ,\n",
       "         2.1690537 , 2.1690537 , 2.1690537 , 2.1690537 , 2.1690537 ,\n",
       "         2.1690537 , 2.1690537 , 2.1690537 , 2.1690537 , 2.1690537 ,\n",
       "         2.1690537 , 2.1690537 , 2.1690537 , 2.1690537 , 2.1690537 ,\n",
       "         2.1690537 , 2.1690537 , 2.1690537 , 2.17190677, 2.17190677,\n",
       "         2.17190677, 2.17190677, 2.17190677, 2.17190677, 2.17190677,\n",
       "         2.17190677, 2.17190677, 2.17190677, 2.17190677, 2.17190677,\n",
       "         2.17427433, 2.17427433, 2.17427433, 2.17427433, 2.17427433,\n",
       "         2.17475172, 2.17806441, 2.18089192, 2.18089192, 2.18089192,\n",
       "         2.18089192, 2.18089192, 2.18089192, 2.18089192, 2.18089192,\n",
       "         2.18371146, 2.18371146, 2.1846458 , 2.18557926, 2.18557926,\n",
       "         2.18557926, 2.18557926, 2.18557926, 2.18557926, 2.18557926,\n",
       "         2.18557926, 2.18557926, 2.18557926, 2.18557926, 2.18557926,\n",
       "         2.18557926, 2.18557926, 2.18557926, 2.18557926, 2.18557926,\n",
       "         2.18557926, 2.18557926, 2.18557926, 2.18557926, 2.18557926,\n",
       "         2.18557926, 2.18557926, 2.18557926, 2.18557926, 2.18557926,\n",
       "         2.18557926, 2.18557926, 2.18885633, 2.18885633, 2.18885633,\n",
       "         2.18885633, 2.18885633, 2.18885633, 2.18885633, 2.18885633,\n",
       "         2.18885633, 2.18885633, 2.18885633, 2.18885633, 2.18885633,\n",
       "         2.18885633, 2.18885633, 2.20046377, 2.20276476, 2.20276476,\n",
       "         2.20276476, 2.20276476, 2.20276476, 2.20276476, 2.20276476,\n",
       "         2.20276476, 2.20276476, 2.20276476, 2.20276476, 2.20276476,\n",
       "         2.20276476, 2.20276476, 2.20276476, 2.20276476, 2.20276476,\n",
       "         2.20276476, 2.20276476, 2.20276476, 2.20276476, 2.20276476,\n",
       "         2.20276476, 2.20276476, 2.20276476, 2.20276476, 2.20276476,\n",
       "         2.20276476, 2.20276476, 2.20276476, 2.20276476, 2.20276476,\n",
       "         2.2096471 , 2.21238683, 2.2300144 , 2.23671235, 2.2411564 ,\n",
       "         2.25304815, 2.26739305, 2.26825241, 2.26825241, 2.26825241,\n",
       "         2.26825241, 2.26825241, 2.26825241, 2.26825241, 2.26825241,\n",
       "         2.27040275, 2.28747146, 2.30258509, 2.30258509, 2.32402364,\n",
       "         2.33698652, 2.33698652, 2.34899147, 2.35137526, 2.35137526,\n",
       "         2.35137526, 2.35137526, 2.35137526, 2.35137526, 2.35967406,\n",
       "         2.38185827, 2.38185827, 2.38301234, 2.41330323, 2.43908084,\n",
       "         2.43908084, 2.44234704, 2.44234704, 2.44234704, 2.44234704,\n",
       "         2.44234704, 2.44234704, 2.44234704, 2.44234704, 2.44234704,\n",
       "         2.44234704, 2.44234704, 2.44234704, 2.44234704, 2.44234704,\n",
       "         2.44234704, 2.44234704, 2.44379816, 2.49595374, 2.49595374,\n",
       "         2.49595374, 2.50484816, 2.52572864, 2.52572864, 2.52572864,\n",
       "         2.56494936, 2.58682374, 2.59151638, 2.59151638, 2.60083612,\n",
       "         2.60083612, 2.60453982, 2.61373952, 2.63905733, 2.63905733,\n",
       "         2.63905733, 2.63905733, 2.63905733, 2.63905733, 2.63905733,\n",
       "         2.63905733, 2.63905733, 2.63905733, 2.63905733, 2.63905733,\n",
       "         2.63905733, 2.63905733, 2.63905733, 2.63905733, 2.63905733,\n",
       "         2.63905733, 2.63905733, 2.63905733, 2.63905733, 2.63905733,\n",
       "         2.63905733, 2.63905733, 2.63905733, 2.63905733, 2.63905733,\n",
       "         2.63905733, 2.66838726, 2.67414865, 2.67414865, 2.67414865,\n",
       "         2.67414865, 2.69406621, 2.69855863, 2.69884126, 2.7080502 ,\n",
       "         2.71524426, 2.73436751, 2.73436751, 2.73788081, 2.73788081,\n",
       "         2.73788081, 2.73788081, 2.73814608, 2.74084002, 2.74084002,\n",
       "         2.74084002, 2.74084002, 2.74084002, 2.77258872, 2.77544713,\n",
       "         2.77570885, 2.77881927, 2.78783441, 2.78783441, 2.80336038,\n",
       "         2.80336038, 2.80336038, 2.80336038, 2.80336038, 2.80336038,\n",
       "         2.80336038, 2.81790261, 2.81790261, 2.81839826, 2.82435066,\n",
       "         2.82435066, 2.82435066, 2.82435066, 2.82731362, 2.82731362,\n",
       "         2.83321334, 2.83907846, 2.83907846, 2.83907846, 2.83907846,\n",
       "         2.83907846, 2.83907846, 2.83907846, 2.83907846, 2.83907846,\n",
       "         2.87356464, 2.91235066, 2.93385687, 2.94443898, 2.94443898,\n",
       "         2.98315349, 2.98315349, 2.98315349, 2.98505043, 2.98505043,\n",
       "         3.00856459, 3.00856459, 3.00856459, 3.02042489, 3.04293546,\n",
       "         3.04293546, 3.0563569 , 3.0563569 , 3.06921505, 3.06921505,\n",
       "         3.07153524, 3.07153524, 3.09104245, 3.09104245, 3.09104245,\n",
       "         3.09104245, 3.09444575, 3.09444575, 3.09444575, 3.1214482 ,\n",
       "         3.13658058, 3.15095238, 3.15806369, 3.17805383, 3.17805383,\n",
       "         3.17805383, 3.17805383, 3.18841662, 3.18841662, 3.19663022,\n",
       "         3.19663022, 3.21887582, 3.21887582, 3.2248579 , 3.2248579 ,\n",
       "         3.2248579 , 3.2248579 , 3.2248579 , 3.2248579 , 3.27588734,\n",
       "         3.27588734, 3.28044118, 3.2932112 , 3.29583687, 3.29583687,\n",
       "         3.29583687, 3.29583687, 3.29583687, 3.29583687, 3.29583687,\n",
       "         3.29583687, 3.29583687, 3.29583687, 3.29583687, 3.29583687,\n",
       "         3.29583687, 3.29583687, 3.29583687, 3.29583687, 3.29583687,\n",
       "         3.29583687, 3.29583687, 3.30505352, 3.30505352, 3.30505352,\n",
       "         3.30505352, 3.30505352, 3.30642872, 3.30642872, 3.31600254,\n",
       "         3.31600254, 3.31600254, 3.31600254, 3.31600254, 3.31600254,\n",
       "         3.31600254, 3.31600254, 3.31600254, 3.33220451, 3.33220451,\n",
       "         3.3576216 , 3.3576216 , 3.3576216 , 3.35863777, 3.35863777,\n",
       "         3.35863777, 3.35863777, 3.3638416 , 3.3638416 , 3.3638416 ,\n",
       "         3.39156783, 3.40535539, 3.40535539, 3.40535539, 3.40535539,\n",
       "         3.42426265, 3.42426265, 3.42426265, 3.4339872 , 3.4339872 ,\n",
       "         3.4339872 , 3.4339872 , 3.43626847, 3.43626847, 3.44998755,\n",
       "         3.44998755, 3.44998755, 3.4657359 , 3.47429294, 3.47429294,\n",
       "         3.47429294, 3.47429294, 3.47777255, 3.47777255, 3.47777255,\n",
       "         3.52636052, 3.52636052, 3.54095932, 3.55594217, 3.56600536,\n",
       "         3.56600536, 3.58351894, 3.59731226, 3.59731226, 3.63098548,\n",
       "         3.63098548, 3.63769668, 3.63769668, 3.68887945, 3.68887945,\n",
       "         3.68887945, 3.70376807, 3.70376807, 3.70592092, 3.70592092,\n",
       "         3.70592092, 3.70592092, 3.70592092, 3.71661621, 3.75136587,\n",
       "         3.75136587, 3.75136587, 3.77045944, 3.8691155 , 3.8691155 ,\n",
       "         3.8691155 , 3.8691155 , 3.8691155 , 3.8691155 , 3.87328218,\n",
       "         3.9220565 , 3.93182563, 3.94150025, 3.9604169 , 3.9676942 ,\n",
       "         3.97029191, 3.97029191, 3.97029191, 3.97029191, 3.98069423,\n",
       "         3.98069423, 3.99083419, 3.99083419, 3.99083419, 3.99083419,\n",
       "         4.02535169, 4.02535169, 4.03320825, 4.04129534, 4.04129534,\n",
       "         4.0517119 , 4.0517119 , 4.0517119 , 4.0517119 , 4.0517119 ,\n",
       "         4.0517119 , 4.06044301, 4.07718484, 4.07718484, 4.1009891 ,\n",
       "         4.12995299, 4.18965474, 4.18965474, 4.21360798, 4.21360798,\n",
       "         4.2527718 , 4.2527718 , 4.25632168, 4.25632168, 4.25632168,\n",
       "         4.25632168, 4.25632168, 4.25632168, 4.25632168, 4.27666612,\n",
       "         4.27666612, 4.28059312, 4.31079913, 4.31079913, 4.31079913,\n",
       "         4.33401742, 4.35323099, 4.35323099, 4.35323099, 4.36038795,\n",
       "         4.36038795, 4.36891987, 4.37281812, 4.38014987, 4.38452351,\n",
       "         4.38452351, 4.38452351, 4.3901188 , 4.3901188 , 4.39444915,\n",
       "         4.41713192, 4.42089632, 4.43269955, 4.43269955, 4.43645563,\n",
       "         4.43645563, 4.47163879, 4.47163879, 4.47163879, 4.50096678,\n",
       "         4.51085951, 4.51085951, 4.52264908, 4.54859983, 4.67679293,\n",
       "         4.69957086, 4.69957086, 4.71745636, 4.71745636, 4.71745636,\n",
       "         4.73860782, 4.79579055, 4.79579055, 4.90267882, 4.90897164,\n",
       "         4.91730069, 4.91730069, 4.91730069, 4.99396918, 5.02749241,\n",
       "         5.02749241, 5.03995135, 5.03995135, 5.03995135, 5.11118445,\n",
       "         5.11118445, 5.35817699, 5.35817699, 5.35817699, 5.43164561,\n",
       "         5.43164561, 5.5759491 , 5.5759491 , 5.5759491 , 5.5759491 ,\n",
       "         6.24091735, 6.24091735, 6.24091735])),\n",
       " (0.925960153423288, 2.9527607255897528, 0.9568057075630823))"
      ]
     },
     "execution_count": 64,
     "metadata": {},
     "output_type": "execute_result"
    },
    {
     "data": {
      "image/png": "[encoded data removed]",
      "text/plain": [
       "<Figure size 640x480 with 1 Axes>"
      ]
     },
     "metadata": {},
     "output_type": "display_data"
    }
   ],
   "source": [
    "stats.probplot(x_train_transformed['Fare'],dist='norm',plot=plt)"
   ]
  },
  {
   "cell_type": "code",
   "execution_count": 65,
   "metadata": {},
   "outputs": [],
   "source": [
    "from sklearn.compose import ColumnTransformer\n",
    "from sklearn.model_selection import cross_val_score\n",
    "def apply_transform(transform):\n",
    "    X = df.iloc[:,1:3]\n",
    "    y = df.iloc[:,0]\n",
    "    \n",
    "    trf = ColumnTransformer([('log',FunctionTransformer(transform),['Fare'])],remainder='passthrough')\n",
    "    \n",
    "    X_trans = trf.fit_transform(X)\n",
    "    \n",
    "    clf = LogisticRegression()\n",
    "    \n",
    "    print(\"Accuracy\",np.mean(cross_val_score(clf,X_trans,y,scoring='accuracy',cv=10)))\n",
    "    \n",
    "    plt.figure(figsize=(14,4))\n",
    "\n",
    "    plt.subplot(121)\n",
    "    stats.probplot(X['Fare'], dist=\"norm\", plot=plt)\n",
    "    plt.title('Fare Before Transform')\n",
    "\n",
    "    plt.subplot(122)\n",
    "    stats.probplot(X_trans[:,0], dist=\"norm\", plot=plt)\n",
    "    plt.title('Fare After Transform')\n",
    "\n",
    "    plt.show()"
   ]
  },
  {
   "cell_type": "code",
   "execution_count": 66,
   "metadata": {},
   "outputs": [
    {
     "ename": "ValueError",
     "evalue": "\nAll the 10 fits failed.\nIt is very likely that your model is misconfigured.\nYou can try to debug the error by setting error_score='raise'.\n\nBelow are more details about the failures:\n--------------------------------------------------------------------------------\n10 fits failed with the following error:\nTraceback (most recent call last):\n  File \"c:\\Users\\naman\\AppData\\Local\\Programs\\Python\\Python311\\Lib\\site-packages\\sklearn\\model_selection\\_validation.py\", line 732, in _fit_and_score\n    estimator.fit(X_train, y_train, **fit_params)\n  File \"c:\\Users\\naman\\AppData\\Local\\Programs\\Python\\Python311\\Lib\\site-packages\\sklearn\\base.py\", line 1151, in wrapper\n    return fit_method(estimator, *args, **kwargs)\n           ^^^^^^^^^^^^^^^^^^^^^^^^^^^^^^^^^^^^^^\n  File \"c:\\Users\\naman\\AppData\\Local\\Programs\\Python\\Python311\\Lib\\site-packages\\sklearn\\linear_model\\_logistic.py\", line 1207, in fit\n    X, y = self._validate_data(\n           ^^^^^^^^^^^^^^^^^^^^\n  File \"c:\\Users\\naman\\AppData\\Local\\Programs\\Python\\Python311\\Lib\\site-packages\\sklearn\\base.py\", line 621, in _validate_data\n    X, y = check_X_y(X, y, **check_params)\n           ^^^^^^^^^^^^^^^^^^^^^^^^^^^^^^^\n  File \"c:\\Users\\naman\\AppData\\Local\\Programs\\Python\\Python311\\Lib\\site-packages\\sklearn\\utils\\validation.py\", line 1147, in check_X_y\n    X = check_array(\n        ^^^^^^^^^^^^\n  File \"c:\\Users\\naman\\AppData\\Local\\Programs\\Python\\Python311\\Lib\\site-packages\\sklearn\\utils\\validation.py\", line 959, in check_array\n    _assert_all_finite(\n  File \"c:\\Users\\naman\\AppData\\Local\\Programs\\Python\\Python311\\Lib\\site-packages\\sklearn\\utils\\validation.py\", line 124, in _assert_all_finite\n    _assert_all_finite_element_wise(\n  File \"c:\\Users\\naman\\AppData\\Local\\Programs\\Python\\Python311\\Lib\\site-packages\\sklearn\\utils\\validation.py\", line 173, in _assert_all_finite_element_wise\n    raise ValueError(msg_err)\nValueError: Input X contains infinity or a value too large for dtype('float64').\n",
     "output_type": "error",
     "traceback": [
      "\u001b[1;31m---------------------------------------------------------------------------\u001b[0m",
      "\u001b[1;31mValueError\u001b[0m                                Traceback (most recent call last)",
      "Cell \u001b[1;32mIn[66], line 1\u001b[0m\n\u001b[1;32m----> 1\u001b[0m \u001b[43mapply_transform\u001b[49m\u001b[43m(\u001b[49m\u001b[38;5;28;43;01mlambda\u001b[39;49;00m\u001b[43m \u001b[49m\u001b[43mx\u001b[49m\u001b[43m:\u001b[49m\u001b[43m \u001b[49m\u001b[38;5;241;43m1\u001b[39;49m\u001b[38;5;241;43m/\u001b[39;49m\u001b[43mx\u001b[49m\u001b[43m)\u001b[49m\n",
      "Cell \u001b[1;32mIn[65], line 13\u001b[0m, in \u001b[0;36mapply_transform\u001b[1;34m(transform)\u001b[0m\n\u001b[0;32m      9\u001b[0m X_trans \u001b[38;5;241m=\u001b[39m trf\u001b[38;5;241m.\u001b[39mfit_transform(X)\n\u001b[0;32m     11\u001b[0m clf \u001b[38;5;241m=\u001b[39m LogisticRegression()\n\u001b[1;32m---> 13\u001b[0m \u001b[38;5;28mprint\u001b[39m(\u001b[38;5;124m\"\u001b[39m\u001b[38;5;124mAccuracy\u001b[39m\u001b[38;5;124m\"\u001b[39m,np\u001b[38;5;241m.\u001b[39mmean(\u001b[43mcross_val_score\u001b[49m\u001b[43m(\u001b[49m\u001b[43mclf\u001b[49m\u001b[43m,\u001b[49m\u001b[43mX_trans\u001b[49m\u001b[43m,\u001b[49m\u001b[43my\u001b[49m\u001b[43m,\u001b[49m\u001b[43mscoring\u001b[49m\u001b[38;5;241;43m=\u001b[39;49m\u001b[38;5;124;43m'\u001b[39;49m\u001b[38;5;124;43maccuracy\u001b[39;49m\u001b[38;5;124;43m'\u001b[39;49m\u001b[43m,\u001b[49m\u001b[43mcv\u001b[49m\u001b[38;5;241;43m=\u001b[39;49m\u001b[38;5;241;43m10\u001b[39;49m\u001b[43m)\u001b[49m))\n\u001b[0;32m     15\u001b[0m plt\u001b[38;5;241m.\u001b[39mfigure(figsize\u001b[38;5;241m=\u001b[39m(\u001b[38;5;241m14\u001b[39m,\u001b[38;5;241m4\u001b[39m))\n\u001b[0;32m     17\u001b[0m plt\u001b[38;5;241m.\u001b[39msubplot(\u001b[38;5;241m121\u001b[39m)\n",
      "File \u001b[1;32mc:\\Users\\naman\\AppData\\Local\\Programs\\Python\\Python311\\Lib\\site-packages\\sklearn\\model_selection\\_validation.py:562\u001b[0m, in \u001b[0;36mcross_val_score\u001b[1;34m(estimator, X, y, groups, scoring, cv, n_jobs, verbose, fit_params, pre_dispatch, error_score)\u001b[0m\n\u001b[0;32m    559\u001b[0m \u001b[38;5;66;03m# To ensure multimetric format is not supported\u001b[39;00m\n\u001b[0;32m    560\u001b[0m scorer \u001b[38;5;241m=\u001b[39m check_scoring(estimator, scoring\u001b[38;5;241m=\u001b[39mscoring)\n\u001b[1;32m--> 562\u001b[0m cv_results \u001b[38;5;241m=\u001b[39m \u001b[43mcross_validate\u001b[49m\u001b[43m(\u001b[49m\n\u001b[0;32m    563\u001b[0m \u001b[43m    \u001b[49m\u001b[43mestimator\u001b[49m\u001b[38;5;241;43m=\u001b[39;49m\u001b[43mestimator\u001b[49m\u001b[43m,\u001b[49m\n\u001b[0;32m    564\u001b[0m \u001b[43m    \u001b[49m\u001b[43mX\u001b[49m\u001b[38;5;241;43m=\u001b[39;49m\u001b[43mX\u001b[49m\u001b[43m,\u001b[49m\n\u001b[0;32m    565\u001b[0m \u001b[43m    \u001b[49m\u001b[43my\u001b[49m\u001b[38;5;241;43m=\u001b[39;49m\u001b[43my\u001b[49m\u001b[43m,\u001b[49m\n\u001b[0;32m    566\u001b[0m \u001b[43m    \u001b[49m\u001b[43mgroups\u001b[49m\u001b[38;5;241;43m=\u001b[39;49m\u001b[43mgroups\u001b[49m\u001b[43m,\u001b[49m\n\u001b[0;32m    567\u001b[0m \u001b[43m    \u001b[49m\u001b[43mscoring\u001b[49m\u001b[38;5;241;43m=\u001b[39;49m\u001b[43m{\u001b[49m\u001b[38;5;124;43m\"\u001b[39;49m\u001b[38;5;124;43mscore\u001b[39;49m\u001b[38;5;124;43m\"\u001b[39;49m\u001b[43m:\u001b[49m\u001b[43m \u001b[49m\u001b[43mscorer\u001b[49m\u001b[43m}\u001b[49m\u001b[43m,\u001b[49m\n\u001b[0;32m    568\u001b[0m \u001b[43m    \u001b[49m\u001b[43mcv\u001b[49m\u001b[38;5;241;43m=\u001b[39;49m\u001b[43mcv\u001b[49m\u001b[43m,\u001b[49m\n\u001b[0;32m    569\u001b[0m \u001b[43m    \u001b[49m\u001b[43mn_jobs\u001b[49m\u001b[38;5;241;43m=\u001b[39;49m\u001b[43mn_jobs\u001b[49m\u001b[43m,\u001b[49m\n\u001b[0;32m    570\u001b[0m \u001b[43m    \u001b[49m\u001b[43mverbose\u001b[49m\u001b[38;5;241;43m=\u001b[39;49m\u001b[43mverbose\u001b[49m\u001b[43m,\u001b[49m\n\u001b[0;32m    571\u001b[0m \u001b[43m    \u001b[49m\u001b[43mfit_params\u001b[49m\u001b[38;5;241;43m=\u001b[39;49m\u001b[43mfit_params\u001b[49m\u001b[43m,\u001b[49m\n\u001b[0;32m    572\u001b[0m \u001b[43m    \u001b[49m\u001b[43mpre_dispatch\u001b[49m\u001b[38;5;241;43m=\u001b[39;49m\u001b[43mpre_dispatch\u001b[49m\u001b[43m,\u001b[49m\n\u001b[0;32m    573\u001b[0m \u001b[43m    \u001b[49m\u001b[43merror_score\u001b[49m\u001b[38;5;241;43m=\u001b[39;49m\u001b[43merror_score\u001b[49m\u001b[43m,\u001b[49m\n\u001b[0;32m    574\u001b[0m \u001b[43m\u001b[49m\u001b[43m)\u001b[49m\n\u001b[0;32m    575\u001b[0m \u001b[38;5;28;01mreturn\u001b[39;00m cv_results[\u001b[38;5;124m\"\u001b[39m\u001b[38;5;124mtest_score\u001b[39m\u001b[38;5;124m\"\u001b[39m]\n",
      "File \u001b[1;32mc:\\Users\\naman\\AppData\\Local\\Programs\\Python\\Python311\\Lib\\site-packages\\sklearn\\utils\\_param_validation.py:211\u001b[0m, in \u001b[0;36mvalidate_params.<locals>.decorator.<locals>.wrapper\u001b[1;34m(*args, **kwargs)\u001b[0m\n\u001b[0;32m    205\u001b[0m \u001b[38;5;28;01mtry\u001b[39;00m:\n\u001b[0;32m    206\u001b[0m     \u001b[38;5;28;01mwith\u001b[39;00m config_context(\n\u001b[0;32m    207\u001b[0m         skip_parameter_validation\u001b[38;5;241m=\u001b[39m(\n\u001b[0;32m    208\u001b[0m             prefer_skip_nested_validation \u001b[38;5;129;01mor\u001b[39;00m global_skip_validation\n\u001b[0;32m    209\u001b[0m         )\n\u001b[0;32m    210\u001b[0m     ):\n\u001b[1;32m--> 211\u001b[0m         \u001b[38;5;28;01mreturn\u001b[39;00m \u001b[43mfunc\u001b[49m\u001b[43m(\u001b[49m\u001b[38;5;241;43m*\u001b[39;49m\u001b[43margs\u001b[49m\u001b[43m,\u001b[49m\u001b[43m \u001b[49m\u001b[38;5;241;43m*\u001b[39;49m\u001b[38;5;241;43m*\u001b[39;49m\u001b[43mkwargs\u001b[49m\u001b[43m)\u001b[49m\n\u001b[0;32m    212\u001b[0m \u001b[38;5;28;01mexcept\u001b[39;00m InvalidParameterError \u001b[38;5;28;01mas\u001b[39;00m e:\n\u001b[0;32m    213\u001b[0m     \u001b[38;5;66;03m# When the function is just a wrapper around an estimator, we allow\u001b[39;00m\n\u001b[0;32m    214\u001b[0m     \u001b[38;5;66;03m# the function to delegate validation to the estimator, but we replace\u001b[39;00m\n\u001b[0;32m    215\u001b[0m     \u001b[38;5;66;03m# the name of the estimator by the name of the function in the error\u001b[39;00m\n\u001b[0;32m    216\u001b[0m     \u001b[38;5;66;03m# message to avoid confusion.\u001b[39;00m\n\u001b[0;32m    217\u001b[0m     msg \u001b[38;5;241m=\u001b[39m re\u001b[38;5;241m.\u001b[39msub(\n\u001b[0;32m    218\u001b[0m         \u001b[38;5;124mr\u001b[39m\u001b[38;5;124m\"\u001b[39m\u001b[38;5;124mparameter of \u001b[39m\u001b[38;5;124m\\\u001b[39m\u001b[38;5;124mw+ must be\u001b[39m\u001b[38;5;124m\"\u001b[39m,\n\u001b[0;32m    219\u001b[0m         \u001b[38;5;124mf\u001b[39m\u001b[38;5;124m\"\u001b[39m\u001b[38;5;124mparameter of \u001b[39m\u001b[38;5;132;01m{\u001b[39;00mfunc\u001b[38;5;241m.\u001b[39m\u001b[38;5;18m__qualname__\u001b[39m\u001b[38;5;132;01m}\u001b[39;00m\u001b[38;5;124m must be\u001b[39m\u001b[38;5;124m\"\u001b[39m,\n\u001b[0;32m    220\u001b[0m         \u001b[38;5;28mstr\u001b[39m(e),\n\u001b[0;32m    221\u001b[0m     )\n",
      "File \u001b[1;32mc:\\Users\\naman\\AppData\\Local\\Programs\\Python\\Python311\\Lib\\site-packages\\sklearn\\model_selection\\_validation.py:328\u001b[0m, in \u001b[0;36mcross_validate\u001b[1;34m(estimator, X, y, groups, scoring, cv, n_jobs, verbose, fit_params, pre_dispatch, return_train_score, return_estimator, return_indices, error_score)\u001b[0m\n\u001b[0;32m    308\u001b[0m parallel \u001b[38;5;241m=\u001b[39m Parallel(n_jobs\u001b[38;5;241m=\u001b[39mn_jobs, verbose\u001b[38;5;241m=\u001b[39mverbose, pre_dispatch\u001b[38;5;241m=\u001b[39mpre_dispatch)\n\u001b[0;32m    309\u001b[0m results \u001b[38;5;241m=\u001b[39m parallel(\n\u001b[0;32m    310\u001b[0m     delayed(_fit_and_score)(\n\u001b[0;32m    311\u001b[0m         clone(estimator),\n\u001b[1;32m   (...)\u001b[0m\n\u001b[0;32m    325\u001b[0m     \u001b[38;5;28;01mfor\u001b[39;00m train, test \u001b[38;5;129;01min\u001b[39;00m indices\n\u001b[0;32m    326\u001b[0m )\n\u001b[1;32m--> 328\u001b[0m \u001b[43m_warn_or_raise_about_fit_failures\u001b[49m\u001b[43m(\u001b[49m\u001b[43mresults\u001b[49m\u001b[43m,\u001b[49m\u001b[43m \u001b[49m\u001b[43merror_score\u001b[49m\u001b[43m)\u001b[49m\n\u001b[0;32m    330\u001b[0m \u001b[38;5;66;03m# For callable scoring, the return type is only know after calling. If the\u001b[39;00m\n\u001b[0;32m    331\u001b[0m \u001b[38;5;66;03m# return type is a dictionary, the error scores can now be inserted with\u001b[39;00m\n\u001b[0;32m    332\u001b[0m \u001b[38;5;66;03m# the correct key.\u001b[39;00m\n\u001b[0;32m    333\u001b[0m \u001b[38;5;28;01mif\u001b[39;00m \u001b[38;5;28mcallable\u001b[39m(scoring):\n",
      "File \u001b[1;32mc:\\Users\\naman\\AppData\\Local\\Programs\\Python\\Python311\\Lib\\site-packages\\sklearn\\model_selection\\_validation.py:414\u001b[0m, in \u001b[0;36m_warn_or_raise_about_fit_failures\u001b[1;34m(results, error_score)\u001b[0m\n\u001b[0;32m    407\u001b[0m \u001b[38;5;28;01mif\u001b[39;00m num_failed_fits \u001b[38;5;241m==\u001b[39m num_fits:\n\u001b[0;32m    408\u001b[0m     all_fits_failed_message \u001b[38;5;241m=\u001b[39m (\n\u001b[0;32m    409\u001b[0m         \u001b[38;5;124mf\u001b[39m\u001b[38;5;124m\"\u001b[39m\u001b[38;5;130;01m\\n\u001b[39;00m\u001b[38;5;124mAll the \u001b[39m\u001b[38;5;132;01m{\u001b[39;00mnum_fits\u001b[38;5;132;01m}\u001b[39;00m\u001b[38;5;124m fits failed.\u001b[39m\u001b[38;5;130;01m\\n\u001b[39;00m\u001b[38;5;124m\"\u001b[39m\n\u001b[0;32m    410\u001b[0m         \u001b[38;5;124m\"\u001b[39m\u001b[38;5;124mIt is very likely that your model is misconfigured.\u001b[39m\u001b[38;5;130;01m\\n\u001b[39;00m\u001b[38;5;124m\"\u001b[39m\n\u001b[0;32m    411\u001b[0m         \u001b[38;5;124m\"\u001b[39m\u001b[38;5;124mYou can try to debug the error by setting error_score=\u001b[39m\u001b[38;5;124m'\u001b[39m\u001b[38;5;124mraise\u001b[39m\u001b[38;5;124m'\u001b[39m\u001b[38;5;124m.\u001b[39m\u001b[38;5;130;01m\\n\u001b[39;00m\u001b[38;5;130;01m\\n\u001b[39;00m\u001b[38;5;124m\"\u001b[39m\n\u001b[0;32m    412\u001b[0m         \u001b[38;5;124mf\u001b[39m\u001b[38;5;124m\"\u001b[39m\u001b[38;5;124mBelow are more details about the failures:\u001b[39m\u001b[38;5;130;01m\\n\u001b[39;00m\u001b[38;5;132;01m{\u001b[39;00mfit_errors_summary\u001b[38;5;132;01m}\u001b[39;00m\u001b[38;5;124m\"\u001b[39m\n\u001b[0;32m    413\u001b[0m     )\n\u001b[1;32m--> 414\u001b[0m     \u001b[38;5;28;01mraise\u001b[39;00m \u001b[38;5;167;01mValueError\u001b[39;00m(all_fits_failed_message)\n\u001b[0;32m    416\u001b[0m \u001b[38;5;28;01melse\u001b[39;00m:\n\u001b[0;32m    417\u001b[0m     some_fits_failed_message \u001b[38;5;241m=\u001b[39m (\n\u001b[0;32m    418\u001b[0m         \u001b[38;5;124mf\u001b[39m\u001b[38;5;124m\"\u001b[39m\u001b[38;5;130;01m\\n\u001b[39;00m\u001b[38;5;132;01m{\u001b[39;00mnum_failed_fits\u001b[38;5;132;01m}\u001b[39;00m\u001b[38;5;124m fits failed out of a total of \u001b[39m\u001b[38;5;132;01m{\u001b[39;00mnum_fits\u001b[38;5;132;01m}\u001b[39;00m\u001b[38;5;124m.\u001b[39m\u001b[38;5;130;01m\\n\u001b[39;00m\u001b[38;5;124m\"\u001b[39m\n\u001b[0;32m    419\u001b[0m         \u001b[38;5;124m\"\u001b[39m\u001b[38;5;124mThe score on these train-test partitions for these parameters\u001b[39m\u001b[38;5;124m\"\u001b[39m\n\u001b[1;32m   (...)\u001b[0m\n\u001b[0;32m    423\u001b[0m         \u001b[38;5;124mf\u001b[39m\u001b[38;5;124m\"\u001b[39m\u001b[38;5;124mBelow are more details about the failures:\u001b[39m\u001b[38;5;130;01m\\n\u001b[39;00m\u001b[38;5;132;01m{\u001b[39;00mfit_errors_summary\u001b[38;5;132;01m}\u001b[39;00m\u001b[38;5;124m\"\u001b[39m\n\u001b[0;32m    424\u001b[0m     )\n",
      "\u001b[1;31mValueError\u001b[0m: \nAll the 10 fits failed.\nIt is very likely that your model is misconfigured.\nYou can try to debug the error by setting error_score='raise'.\n\nBelow are more details about the failures:\n--------------------------------------------------------------------------------\n10 fits failed with the following error:\nTraceback (most recent call last):\n  File \"c:\\Users\\naman\\AppData\\Local\\Programs\\Python\\Python311\\Lib\\site-packages\\sklearn\\model_selection\\_validation.py\", line 732, in _fit_and_score\n    estimator.fit(X_train, y_train, **fit_params)\n  File \"c:\\Users\\naman\\AppData\\Local\\Programs\\Python\\Python311\\Lib\\site-packages\\sklearn\\base.py\", line 1151, in wrapper\n    return fit_method(estimator, *args, **kwargs)\n           ^^^^^^^^^^^^^^^^^^^^^^^^^^^^^^^^^^^^^^\n  File \"c:\\Users\\naman\\AppData\\Local\\Programs\\Python\\Python311\\Lib\\site-packages\\sklearn\\linear_model\\_logistic.py\", line 1207, in fit\n    X, y = self._validate_data(\n           ^^^^^^^^^^^^^^^^^^^^\n  File \"c:\\Users\\naman\\AppData\\Local\\Programs\\Python\\Python311\\Lib\\site-packages\\sklearn\\base.py\", line 621, in _validate_data\n    X, y = check_X_y(X, y, **check_params)\n           ^^^^^^^^^^^^^^^^^^^^^^^^^^^^^^^\n  File \"c:\\Users\\naman\\AppData\\Local\\Programs\\Python\\Python311\\Lib\\site-packages\\sklearn\\utils\\validation.py\", line 1147, in check_X_y\n    X = check_array(\n        ^^^^^^^^^^^^\n  File \"c:\\Users\\naman\\AppData\\Local\\Programs\\Python\\Python311\\Lib\\site-packages\\sklearn\\utils\\validation.py\", line 959, in check_array\n    _assert_all_finite(\n  File \"c:\\Users\\naman\\AppData\\Local\\Programs\\Python\\Python311\\Lib\\site-packages\\sklearn\\utils\\validation.py\", line 124, in _assert_all_finite\n    _assert_all_finite_element_wise(\n  File \"c:\\Users\\naman\\AppData\\Local\\Programs\\Python\\Python311\\Lib\\site-packages\\sklearn\\utils\\validation.py\", line 173, in _assert_all_finite_element_wise\n    raise ValueError(msg_err)\nValueError: Input X contains infinity or a value too large for dtype('float64').\n"
     ]
    }
   ],
   "source": [
    "apply_transform(lambda x: 1/x)"
   ]
  },
  {
   "cell_type": "code",
   "execution_count": null,
   "metadata": {},
   "outputs": [],
   "source": []
  }
 ],
 "metadata": {
  "kernelspec": {
   "display_name": "Python 3",
   "language": "python",
   "name": "python3"
  },
  "language_info": {
   "codemirror_mode": {
    "name": "ipython",
    "version": 3
   },
   "file_extension": ".py",
   "mimetype": "text/x-python",
   "name": "python",
   "nbconvert_exporter": "python",
   "pygments_lexer": "ipython3",
   "version": "3.11.4"
  }
 },
 "nbformat": 4,
 "nbformat_minor": 2
}
